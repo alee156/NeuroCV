{
 "cells": [
  {
   "cell_type": "markdown",
   "metadata": {},
   "source": [
    "Step 1: Change path and import necessary packages"
   ]
  },
  {
   "cell_type": "code",
   "execution_count": 5,
   "metadata": {
    "collapsed": true
   },
   "outputs": [],
   "source": [
    "import os\n",
    "PATH=\"/Users/albertlee/NeuroCV/PCV/2Dhisteq/3D\" # use your own path\n",
    "os.chdir(PATH)\n",
    "\n",
    "################\n",
    "\n",
    "import matplotlib.pyplot as plt\n",
    "import csv,gc\n",
    "import matplotlib\n",
    "import numpy as np\n",
    "import nibabel as nb\n"
   ]
  },
  {
   "cell_type": "markdown",
   "metadata": {},
   "source": [
    "Step 2: Setup Data"
   ]
  },
  {
   "cell_type": "code",
   "execution_count": 3,
   "metadata": {
    "collapsed": true
   },
   "outputs": [],
   "source": [
    "BINS=32 # histogram bins\n",
    "RANGE=(10.0,300.0)\n",
    "\n",
    "im = nb.load('Fear197.nii')\n",
    "im = im.get_data()\n",
    "img = im[:,:,:,0]"
   ]
  },
  {
   "cell_type": "markdown",
   "metadata": {},
   "source": [
    "Step 3: Basic Exploratory Analysis"
   ]
  },
  {
   "cell_type": "code",
   "execution_count": 11,
   "metadata": {
    "collapsed": false
   },
   "outputs": [
    {
     "name": "stdout",
     "output_type": "stream",
     "text": [
      "(896, 576, 1087)\n"
     ]
    }
   ],
   "source": [
    "print img.shape\n",
    "\n",
    "## print img.res -> memmap has no attribute 'res'\n",
    "## print img.numbins -> memmap has no attribute 'numbins'\n"
   ]
  },
  {
   "cell_type": "markdown",
   "metadata": {},
   "source": [
    "XDimension = 896\n",
    "YDimension = 576\n",
    "ZDimension = 1087"
   ]
  },
  {
   "cell_type": "code",
   "execution_count": null,
   "metadata": {
    "collapsed": false
   },
   "outputs": [],
   "source": [
    "for z in range(1087):\n",
    "    for y in range(576):\n",
    "        for x in range(896):\n",
    "        \n",
    "            data = img\n",
    "            \n",
    "            # compute the histogram and store it\n",
    "            (hist, bins) = np.histogram(data[data > 0], BINS, range=(0,BINS))\n",
    "            hist_sum = np.add(hist_sum, hist)\n",
    "            print \"Processed cube {} {} {}\".format(x,y,z)"
   ]
  },
  {
   "cell_type": "code",
   "execution_count": null,
   "metadata": {
    "collapsed": true
   },
   "outputs": [],
   "source": []
  }
 ],
 "metadata": {
  "kernelspec": {
   "display_name": "Python 2",
   "language": "python",
   "name": "python2"
  },
  "language_info": {
   "codemirror_mode": {
    "name": "ipython",
    "version": 2
   },
   "file_extension": ".py",
   "mimetype": "text/x-python",
   "name": "python",
   "nbconvert_exporter": "python",
   "pygments_lexer": "ipython2",
   "version": "2.7.11"
  }
 },
 "nbformat": 4,
 "nbformat_minor": 0
}

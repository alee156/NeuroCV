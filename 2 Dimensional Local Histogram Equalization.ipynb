{
 "cells": [
  {
   "cell_type": "markdown",
   "metadata": {},
   "source": [
    "2 Dimensional Local Histogram Equalization"
   ]
  },
  {
   "cell_type": "code",
   "execution_count": 1,
   "metadata": {
    "collapsed": false
   },
   "outputs": [],
   "source": [
    "### Run below if necessary\n",
    "\n",
    "##import sys\n",
    "\n",
    "##sys.path.append('/usr/local/lib/python2.7/site-packages')\n",
    "\n",
    "import math\n",
    "import csv,gc\n",
    "import matplotlib\n",
    "import numpy as np\n",
    "import cv2\n",
    "\n",
    "#%matplotlib\n",
    "BINS = 32"
   ]
  },
  {
   "cell_type": "code",
   "execution_count": 2,
   "metadata": {
    "collapsed": false
   },
   "outputs": [],
   "source": [
    "import matplotlib.pyplot as plt\n",
    "%matplotlib inline"
   ]
  },
  {
   "cell_type": "code",
   "execution_count": 4,
   "metadata": {
    "collapsed": true
   },
   "outputs": [],
   "source": [
    "from skimage import data, img_as_float\n",
    "from skimage import exposure\n",
    "import cv2"
   ]
  },
  {
   "cell_type": "code",
   "execution_count": 19,
   "metadata": {
    "collapsed": false
   },
   "outputs": [
    {
     "name": "stdout",
     "output_type": "stream",
     "text": [
      "[[ 52  55  61  66  70  61  64  73]\n",
      " [ 63  59  55  90 109  85  69  72]\n",
      " [ 62  59  68 113 144 104  66  73]\n",
      " [ 63  58  71 122 154 106  70  69]\n",
      " [ 67  61  68 104 126  88  68  70]\n",
      " [ 79  65  60  70  77  68  58  75]\n",
      " [ 85  71  64  59  55  61  65  83]\n",
      " [ 87  79  69  68  65  76  78  94]]\n",
      " \n",
      "[52 55 61 66 70 61 64 73]\n",
      "[ 63  59  55  90 109  85  69  72]\n",
      " \n",
      "[ 52  55  61  66  70  61  64  73  63  59  55  90 109  85  69  72  62  59\n",
      "  68 113 144 104  66  73  63  58  71 122 154 106  70  69  67  61  68 104\n",
      " 126  88  68  70  79  65  60  70  77  68  58  75  85  71  64  59  55  61\n",
      "  65  83  87  79  69  68  65  76  78  94]\n",
      "4869\n",
      " \n"
     ]
    },
    {
     "data": {
      "image/png": "[encoded data removed]",
      "text/plain": [
       "<matplotlib.figure.Figure at 0x10fec11d0>"
      ]
     },
     "metadata": {},
     "output_type": "display_data"
    },
    {
     "name": "stdout",
     "output_type": "stream",
     "text": [
      " \n",
      " \n",
      "[255 128 128 128 128 255 128 128 128 128 255  64  64 128 128 128 255 255\n",
      "  64  64  64 191 255  64 128 255  64  64  64 191 191 191 128 191 128 128\n",
      " 128 255 255 128 128 191 255 128 191 255 255  64 128 191 191 255 255 191\n",
      " 128  64 128 191 191 128 128  64  64  64]\n",
      "9830\n",
      " \n"
     ]
    },
    {
     "data": {
      "image/png": "[encoded data removed]",
      "text/plain": [
       "<matplotlib.figure.Figure at 0x115130390>"
      ]
     },
     "metadata": {},
     "output_type": "display_data"
    }
   ],
   "source": [
    "img = [\n",
    "    [52, 55, 61,  66,  70,  61, 64, 73],\n",
    "    [63, 59, 55,  90, 109,  85, 69, 72],\n",
    "    [62, 59, 68, 113, 144, 104, 66, 73],\n",
    "    [63, 58, 71, 122, 154, 106, 70, 69],\n",
    "    [67, 61, 68, 104, 126,  88, 68, 70],\n",
    "    [79, 65, 60,  70,  77,  68, 58, 75],\n",
    "    [85, 71, 64,  59,  55,  61, 65, 83],\n",
    "    [87, 79, 69,  68,  65,  76, 78, 94]\n",
    "]\n",
    "\n",
    "img = np.asarray(img)\n",
    "print img\n",
    "\n",
    "print \" \"\n",
    "\n",
    "print img[0]\n",
    "print img[1]\n",
    "\n",
    "print \" \"\n",
    "\n",
    "imgflat = img.reshape(-1)\n",
    "print imgflat\n",
    "print imgflat.sum()\n",
    "\n",
    "print \" \"\n",
    "fig = plt.hist(imgflat, bins=255)\n",
    "plt.title('Histogram')\n",
    "plt.show()\n",
    "\n",
    "print \" \"\n",
    "\n",
    "#clahe = cv2.createCLAHE(clipLimit=2.0, tileGridSize=(8,8))\n",
    "clahe = cv2.createCLAHE()\n",
    "\n",
    "img_grey = np.array(img * 255, dtype = np.uint8)\n",
    "#threshed = cv2.adaptiveThreshold(img_grey, 255, cv2.ADAPTIVE_THRESH_MEAN_C, cv2.THRESH_BINARY, 3, 0)\n",
    "\n",
    "cl1 = clahe.apply(img_grey)\n",
    " \n",
    "#cv2.imwrite('clahe_2.jpg',cl1)\n",
    "#cv2.startWindowThread()\n",
    "#cv2.namedWindow(\"adaptive\")\n",
    "#cv2.imshow(\"adaptive\", cl1)\n",
    "#cv2.imshow(\"adaptive\", threshed)\n",
    "#plt.imshow(threshed)\n",
    "\n",
    "print \" \"\n",
    "\n",
    "localimgflat = cl1.reshape(-1)\n",
    "print localimgflat\n",
    "print localimgflat.sum()\n",
    "\n",
    "print \" \"\n",
    "fig = plt.hist(localimgflat, bins=255)\n",
    "plt.title('Locally Equalized Histogram')\n",
    "plt.show()"
   ]
  },
  {
   "cell_type": "code",
   "execution_count": 18,
   "metadata": {
    "collapsed": false
   },
   "outputs": [
    {
     "name": "stdout",
     "output_type": "stream",
     "text": [
      "[ 0.01067981  0.01129595  0.01252824  0.01355514  0.01437667  0.01252824\n",
      "  0.01314438  0.01499281  0.012939    0.01211748  0.01129595  0.01848429\n",
      "  0.02238653  0.01745738  0.01417129  0.01478743  0.01273362  0.01211748\n",
      "  0.01396591  0.02320805  0.02957486  0.02135962  0.01355514  0.01499281\n",
      "  0.012939    0.0119121   0.01458205  0.02505648  0.03162867  0.02177038\n",
      "  0.01437667  0.01417129  0.01376053  0.01252824  0.01396591  0.02135962\n",
      "  0.025878    0.01807353  0.01396591  0.01437667  0.0162251   0.01334976\n",
      "  0.01232286  0.01437667  0.01581434  0.01396591  0.0119121   0.01540357\n",
      "  0.01745738  0.01458205  0.01314438  0.01211748  0.01129595  0.01252824\n",
      "  0.01334976  0.01704662  0.01786815  0.0162251   0.01417129  0.01396591\n",
      "  0.01334976  0.01560895  0.01601972  0.01930581]\n"
     ]
    },
    {
     "data": {
      "text/plain": [
       "<function matplotlib.pyplot.show>"
      ]
     },
     "execution_count": 18,
     "metadata": {},
     "output_type": "execute_result"
    },
    {
     "data": {
      "image/png": "[encoded data removed]",
      "text/plain": [
       "<matplotlib.figure.Figure at 0x114994b90>"
      ]
     },
     "metadata": {},
     "output_type": "display_data"
    }
   ],
   "source": [
    "imgnorm = imgflat*1.0/sum(imgflat)\n",
    "print imgnorm\n",
    "\n",
    "plt.hist(imgnorm, bins = 255)\n",
    "plt.title('Normalized Histogram')\n",
    "plt.show"
   ]
  },
  {
   "cell_type": "code",
   "execution_count": null,
   "metadata": {
    "collapsed": true
   },
   "outputs": [],
   "source": []
  }
 ],
 "metadata": {
  "kernelspec": {
   "display_name": "Python 2",
   "language": "python",
   "name": "python2"
  },
  "language_info": {
   "codemirror_mode": {
    "name": "ipython",
    "version": 2
   },
   "file_extension": ".py",
   "mimetype": "text/x-python",
   "name": "python",
   "nbconvert_exporter": "python",
   "pygments_lexer": "ipython2",
   "version": "2.7.11"
  }
 },
 "nbformat": 4,
 "nbformat_minor": 0
}

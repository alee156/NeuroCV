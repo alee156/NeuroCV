{
 "cells": [
  {
   "cell_type": "markdown",
   "metadata": {},
   "source": [
    "Basic Array Review and Transformations"
   ]
  },
  {
   "cell_type": "code",
   "execution_count": 1,
   "metadata": {
    "collapsed": true
   },
   "outputs": [],
   "source": [
    "import matplotlib.pyplot as plt\n",
    "import csv,gc\n",
    "import matplotlib\n",
    "import numpy as np\n",
    "import nibabel as nb\n",
    "import scipy.ndimage\n",
    "\n",
    "%matplotlib inline\n",
    "BINS = 32"
   ]
  },
  {
   "cell_type": "code",
   "execution_count": 69,
   "metadata": {
    "collapsed": false
   },
   "outputs": [
    {
     "name": "stdout",
     "output_type": "stream",
     "text": [
      "[[ 7.69567138  9.65480173]\n",
      " [ 0.38167205  3.96212413]]\n"
     ]
    }
   ],
   "source": [
    "z = np.random.uniform(0.0,10.0,(2,2))\n",
    "print z"
   ]
  },
  {
   "cell_type": "code",
   "execution_count": 70,
   "metadata": {
    "collapsed": false
   },
   "outputs": [
    {
     "name": "stdout",
     "output_type": "stream",
     "text": [
      "[ 7.69567138  9.65480173]\n",
      "[ 0.38167205  3.96212413]\n"
     ]
    }
   ],
   "source": [
    "print z[0]\n",
    "print z[1]"
   ]
  },
  {
   "cell_type": "code",
   "execution_count": 80,
   "metadata": {
    "collapsed": false
   },
   "outputs": [
    {
     "name": "stdout",
     "output_type": "stream",
     "text": [
      "[1 0 0 1 0 0 0 1 0 1]\n",
      "4\n",
      "3.70925186936\n"
     ]
    }
   ],
   "source": [
    "zz, bin_edges = np.histogram(z)\n",
    "print zz\n",
    "\n",
    "histsum = zz.sum()\n",
    "print histsum\n",
    "print np.sum(zz*np.diff(bin_edges))\n",
    "#Note: Shouldn't the array be [1010002]"
   ]
  },
  {
   "cell_type": "code",
   "execution_count": 81,
   "metadata": {
    "collapsed": false
   },
   "outputs": [
    {
     "data": {
      "image/png": "[encoded data removed]",
      "text/plain": [
       "<matplotlib.figure.Figure at 0x107237290>"
      ]
     },
     "metadata": {},
     "output_type": "display_data"
    }
   ],
   "source": [
    "plt.hist(zz, bins='auto')\n",
    "plt.show()\n",
    "\n",
    "## We expect 6 zeros, 4 ones"
   ]
  },
  {
   "cell_type": "code",
   "execution_count": 82,
   "metadata": {
    "collapsed": false
   },
   "outputs": [
    {
     "name": "stdout",
     "output_type": "stream",
     "text": [
      "[1 0 0 1 0 0 0 1 0 1]\n"
     ]
    }
   ],
   "source": [
    "zz, bin_edges = np.histogram(z,bins = 10)\n",
    "print zz"
   ]
  },
  {
   "cell_type": "code",
   "execution_count": 83,
   "metadata": {
    "collapsed": false
   },
   "outputs": [
    {
     "data": {
      "image/png": "[encoded data removed]",
      "text/plain": [
       "<matplotlib.figure.Figure at 0x10754ee10>"
      ]
     },
     "metadata": {},
     "output_type": "display_data"
    }
   ],
   "source": [
    "plt.hist(zz, bins = 10)\n",
    "plt.show()"
   ]
  },
  {
   "cell_type": "code",
   "execution_count": 87,
   "metadata": {
    "collapsed": false
   },
   "outputs": [],
   "source": [
    "## Histogram Normalization\n",
    "'''zhisteq = zz\n",
    "zz.astype(float)\n",
    "i=0\n",
    "while i<7:\n",
    "    zhisteq[i] = (zz[i]/histsum)\n",
    "    i+=1\n",
    "zhisteq.astype(float)\n",
    "print zhisteq '''\n",
    "\n",
    "zhisteq = zz*1.0/sum(zz)"
   ]
  },
  {
   "cell_type": "code",
   "execution_count": 86,
   "metadata": {
    "collapsed": false
   },
   "outputs": [
    {
     "data": {
      "text/plain": [
       "<function matplotlib.pyplot.show>"
      ]
     },
     "execution_count": 86,
     "metadata": {},
     "output_type": "execute_result"
    },
    {
     "data": {
      "image/png": "[encoded data removed]",
      "text/plain": [
       "<matplotlib.figure.Figure at 0x10755f510>"
      ]
     },
     "metadata": {},
     "output_type": "display_data"
    }
   ],
   "source": [
    "plt.hist(zhisteq, bins = 7)\n",
    "plt.show"
   ]
  },
  {
   "cell_type": "code",
   "execution_count": 2,
   "metadata": {
    "collapsed": false
   },
   "outputs": [
    {
     "name": "stdout",
     "output_type": "stream",
     "text": [
      "[[[5 9]\n",
      "  [0 6]]\n",
      "\n",
      " [[2 1]\n",
      "  [7 3]]]\n"
     ]
    }
   ],
   "source": [
    "a = np.random.randint(0,10,(2,2,2)) \n",
    "print a"
   ]
  },
  {
   "cell_type": "code",
   "execution_count": 9,
   "metadata": {
    "collapsed": false
   },
   "outputs": [
    {
     "name": "stdout",
     "output_type": "stream",
     "text": [
      "[[5 9]\n",
      " [0 6]]\n",
      "[[2 1]\n",
      " [7 3]]\n"
     ]
    }
   ],
   "source": [
    "print a[0]\n",
    "print a[1]"
   ]
  },
  {
   "cell_type": "code",
   "execution_count": 37,
   "metadata": {
    "collapsed": false
   },
   "outputs": [
    {
     "name": "stdout",
     "output_type": "stream",
     "text": [
      "[5 9 0 6 2 1 7 3]\n",
      "33\n"
     ]
    }
   ],
   "source": [
    "aa = a.reshape(-1)\n",
    "print aa\n",
    "print aa.sum()"
   ]
  },
  {
   "cell_type": "code",
   "execution_count": 39,
   "metadata": {
    "collapsed": false
   },
   "outputs": [
    {
     "data": {
      "image/png": "[encoded data removed]",
      "text/plain": [
       "<matplotlib.figure.Figure at 0x106d67550>"
      ]
     },
     "metadata": {},
     "output_type": "display_data"
    }
   ],
   "source": [
    "plt.bar(np.arange(aa.shape[0]),aa)\n",
    "plt.show()"
   ]
  },
  {
   "cell_type": "code",
   "execution_count": 10,
   "metadata": {
    "collapsed": false
   },
   "outputs": [
    {
     "name": "stdout",
     "output_type": "stream",
     "text": [
      "[[[4 1 7 8]\n",
      "  [7 6 7 4]\n",
      "  [9 9 2 3]]\n",
      "\n",
      " [[6 3 1 6]\n",
      "  [3 4 0 4]\n",
      "  [8 2 5 8]]]\n"
     ]
    }
   ],
   "source": [
    "b = np.random.randint(0,10,(2,3,4)) \n",
    "print b"
   ]
  },
  {
   "cell_type": "code",
   "execution_count": 18,
   "metadata": {
    "collapsed": false
   },
   "outputs": [
    {
     "name": "stdout",
     "output_type": "stream",
     "text": [
      "[[4 1 7 8]\n",
      " [7 6 7 4]\n",
      " [9 9 2 3]]\n",
      "[[6 3 1 6]\n",
      " [3 4 0 4]\n",
      " [8 2 5 8]]\n",
      "---------\n",
      "[4 1 7 8]\n",
      "[7 6 7 4]\n"
     ]
    }
   ],
   "source": [
    "print b[0]\n",
    "print b[1]\n",
    "print \"---------\"\n",
    "print b[0,0]\n",
    "print b[0,1]"
   ]
  },
  {
   "cell_type": "code",
   "execution_count": 46,
   "metadata": {
    "collapsed": false
   },
   "outputs": [
    {
     "name": "stdout",
     "output_type": "stream",
     "text": [
      "[4 1 7 8 7 6 7 4 9 9 2 3 6 3 1 6 3 4 0 4 8 2 5 8]\n",
      "117\n"
     ]
    }
   ],
   "source": [
    "bb = b.reshape(-1)\n",
    "print bb\n",
    "print bb.sum()"
   ]
  },
  {
   "cell_type": "code",
   "execution_count": 47,
   "metadata": {
    "collapsed": false
   },
   "outputs": [
    {
     "data": {
      "image/png": "[encoded data removed]",
      "text/plain": [
       "<matplotlib.figure.Figure at 0x106e1f9d0>"
      ]
     },
     "metadata": {},
     "output_type": "display_data"
    }
   ],
   "source": [
    "plt.bar(np.arange(bb.shape[0]),bb)\n",
    "plt.show()"
   ]
  },
  {
   "cell_type": "code",
   "execution_count": null,
   "metadata": {
    "collapsed": true
   },
   "outputs": [],
   "source": []
  }
 ],
 "metadata": {
  "kernelspec": {
   "display_name": "Python 2",
   "language": "python",
   "name": "python2"
  },
  "language_info": {
   "codemirror_mode": {
    "name": "ipython",
    "version": 2
   },
   "file_extension": ".py",
   "mimetype": "text/x-python",
   "name": "python",
   "nbconvert_exporter": "python",
   "pygments_lexer": "ipython2",
   "version": "2.7.11"
  }
 },
 "nbformat": 4,
 "nbformat_minor": 0
}

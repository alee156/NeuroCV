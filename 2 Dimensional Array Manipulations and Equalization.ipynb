{
 "cells": [
  {
   "cell_type": "markdown",
   "metadata": {},
   "source": [
    "2 Dimensional Array Manipulations and Equalization"
   ]
  },
  {
   "cell_type": "markdown",
   "metadata": {},
   "source": [
    "I have absolutely no idea why the below errors occur, I searched through stack exchange and apparently there is some kind of circular logic occuring with the matplotlib import, but my error was not fixed through python kernel editing unfortunately."
   ]
  },
  {
   "cell_type": "code",
   "execution_count": 5,
   "metadata": {
    "collapsed": false
   },
   "outputs": [
    {
     "ename": "ImportError",
     "evalue": "cannot import name pyplot",
     "output_type": "error",
     "traceback": [
      "\u001b[1;31m---------------------------------------------------------------------------\u001b[0m",
      "\u001b[1;31mImportError\u001b[0m                               Traceback (most recent call last)",
      "\u001b[1;32m<ipython-input-5-3b917940efc5>\u001b[0m in \u001b[0;36m<module>\u001b[1;34m()\u001b[0m\n\u001b[1;32m----> 1\u001b[1;33m \u001b[1;32mimport\u001b[0m \u001b[0mmatplotlib\u001b[0m\u001b[1;33m.\u001b[0m\u001b[0mpyplot\u001b[0m \u001b[1;32mas\u001b[0m \u001b[0mplt\u001b[0m\u001b[1;33m\u001b[0m\u001b[0m\n\u001b[0m\u001b[0;32m      2\u001b[0m \u001b[1;32mimport\u001b[0m \u001b[0mscipy\u001b[0m\u001b[1;33m.\u001b[0m\u001b[0mndimage\u001b[0m\u001b[1;33m\u001b[0m\u001b[0m\n\u001b[0;32m      3\u001b[0m \u001b[1;33m\u001b[0m\u001b[0m\n\u001b[0;32m      4\u001b[0m \u001b[1;32mimport\u001b[0m \u001b[0mcsv\u001b[0m\u001b[1;33m,\u001b[0m\u001b[0mgc\u001b[0m\u001b[1;33m\u001b[0m\u001b[0m\n\u001b[0;32m      5\u001b[0m \u001b[1;32mimport\u001b[0m \u001b[0mmatplotlib\u001b[0m\u001b[1;33m\u001b[0m\u001b[0m\n",
      "\u001b[1;32m/usr/lib/python2.7/dist-packages/matplotlib/pyplot.py\u001b[0m in \u001b[0;36m<module>\u001b[1;34m()\u001b[0m\n\u001b[0;32m    112\u001b[0m \u001b[1;33m\u001b[0m\u001b[0m\n\u001b[0;32m    113\u001b[0m \u001b[1;32mfrom\u001b[0m \u001b[0mmatplotlib\u001b[0m\u001b[1;33m.\u001b[0m\u001b[0mbackends\u001b[0m \u001b[1;32mimport\u001b[0m \u001b[0mpylab_setup\u001b[0m\u001b[1;33m\u001b[0m\u001b[0m\n\u001b[1;32m--> 114\u001b[1;33m \u001b[0m_backend_mod\u001b[0m\u001b[1;33m,\u001b[0m \u001b[0mnew_figure_manager\u001b[0m\u001b[1;33m,\u001b[0m \u001b[0mdraw_if_interactive\u001b[0m\u001b[1;33m,\u001b[0m \u001b[0m_show\u001b[0m \u001b[1;33m=\u001b[0m \u001b[0mpylab_setup\u001b[0m\u001b[1;33m(\u001b[0m\u001b[1;33m)\u001b[0m\u001b[1;33m\u001b[0m\u001b[0m\n\u001b[0m\u001b[0;32m    115\u001b[0m \u001b[1;33m\u001b[0m\u001b[0m\n\u001b[0;32m    116\u001b[0m \u001b[0m_IP_REGISTERED\u001b[0m \u001b[1;33m=\u001b[0m \u001b[0mNone\u001b[0m\u001b[1;33m\u001b[0m\u001b[0m\n",
      "\u001b[1;32m/usr/lib/python2.7/dist-packages/matplotlib/backends/__init__.pyc\u001b[0m in \u001b[0;36mpylab_setup\u001b[1;34m()\u001b[0m\n\u001b[0;32m     30\u001b[0m     \u001b[1;31m# imports. 0 means only perform absolute imports.\u001b[0m\u001b[1;33m\u001b[0m\u001b[1;33m\u001b[0m\u001b[0m\n\u001b[0;32m     31\u001b[0m     backend_mod = __import__(backend_name,\n\u001b[1;32m---> 32\u001b[1;33m                              globals(),locals(),[backend_name],0)\n\u001b[0m\u001b[0;32m     33\u001b[0m \u001b[1;33m\u001b[0m\u001b[0m\n\u001b[0;32m     34\u001b[0m     \u001b[1;31m# Things we pull in from all backends\u001b[0m\u001b[1;33m\u001b[0m\u001b[1;33m\u001b[0m\u001b[0m\n",
      "\u001b[1;32m/usr/local/lib/python2.7/dist-packages/ipykernel/pylab/backend_inline.py\u001b[0m in \u001b[0;36m<module>\u001b[1;34m()\u001b[0m\n\u001b[0;32m    154\u001b[0m         \u001b[0mconfigure_inline_support\u001b[0m\u001b[1;33m(\u001b[0m\u001b[0mip\u001b[0m\u001b[1;33m,\u001b[0m \u001b[0mbackend\u001b[0m\u001b[1;33m)\u001b[0m\u001b[1;33m\u001b[0m\u001b[0m\n\u001b[0;32m    155\u001b[0m \u001b[1;33m\u001b[0m\u001b[0m\n\u001b[1;32m--> 156\u001b[1;33m \u001b[0m_enable_matplotlib_integration\u001b[0m\u001b[1;33m(\u001b[0m\u001b[1;33m)\u001b[0m\u001b[1;33m\u001b[0m\u001b[0m\n\u001b[0m",
      "\u001b[1;32m/usr/local/lib/python2.7/dist-packages/ipykernel/pylab/backend_inline.py\u001b[0m in \u001b[0;36m_enable_matplotlib_integration\u001b[1;34m()\u001b[0m\n\u001b[0;32m    152\u001b[0m     \u001b[0mbackend\u001b[0m \u001b[1;33m=\u001b[0m \u001b[0mget_backend\u001b[0m\u001b[1;33m(\u001b[0m\u001b[1;33m)\u001b[0m\u001b[1;33m\u001b[0m\u001b[0m\n\u001b[0;32m    153\u001b[0m     \u001b[1;32mif\u001b[0m \u001b[0mip\u001b[0m \u001b[1;32mand\u001b[0m \u001b[0mbackend\u001b[0m \u001b[1;33m==\u001b[0m \u001b[1;34m'module://%s'\u001b[0m \u001b[1;33m%\u001b[0m \u001b[0m__name__\u001b[0m\u001b[1;33m:\u001b[0m\u001b[1;33m\u001b[0m\u001b[0m\n\u001b[1;32m--> 154\u001b[1;33m         \u001b[0mconfigure_inline_support\u001b[0m\u001b[1;33m(\u001b[0m\u001b[0mip\u001b[0m\u001b[1;33m,\u001b[0m \u001b[0mbackend\u001b[0m\u001b[1;33m)\u001b[0m\u001b[1;33m\u001b[0m\u001b[0m\n\u001b[0m\u001b[0;32m    155\u001b[0m \u001b[1;33m\u001b[0m\u001b[0m\n\u001b[0;32m    156\u001b[0m \u001b[0m_enable_matplotlib_integration\u001b[0m\u001b[1;33m(\u001b[0m\u001b[1;33m)\u001b[0m\u001b[1;33m\u001b[0m\u001b[0m\n",
      "\u001b[1;32m/usr/local/lib/python2.7/dist-packages/IPython/core/pylabtools.pyc\u001b[0m in \u001b[0;36mconfigure_inline_support\u001b[1;34m(shell, backend)\u001b[0m\n\u001b[0;32m    359\u001b[0m     \u001b[1;32mexcept\u001b[0m \u001b[0mImportError\u001b[0m\u001b[1;33m:\u001b[0m\u001b[1;33m\u001b[0m\u001b[0m\n\u001b[0;32m    360\u001b[0m         \u001b[1;32mreturn\u001b[0m\u001b[1;33m\u001b[0m\u001b[0m\n\u001b[1;32m--> 361\u001b[1;33m     \u001b[1;32mfrom\u001b[0m \u001b[0mmatplotlib\u001b[0m \u001b[1;32mimport\u001b[0m \u001b[0mpyplot\u001b[0m\u001b[1;33m\u001b[0m\u001b[0m\n\u001b[0m\u001b[0;32m    362\u001b[0m \u001b[1;33m\u001b[0m\u001b[0m\n\u001b[0;32m    363\u001b[0m     \u001b[0mcfg\u001b[0m \u001b[1;33m=\u001b[0m \u001b[0mInlineBackend\u001b[0m\u001b[1;33m.\u001b[0m\u001b[0minstance\u001b[0m\u001b[1;33m(\u001b[0m\u001b[0mparent\u001b[0m\u001b[1;33m=\u001b[0m\u001b[0mshell\u001b[0m\u001b[1;33m)\u001b[0m\u001b[1;33m\u001b[0m\u001b[0m\n",
      "\u001b[1;31mImportError\u001b[0m: cannot import name pyplot"
     ]
    }
   ],
   "source": [
    "import matplotlib.pyplot as plt\n",
    "import scipy.ndimage\n",
    "\n",
    "import csv,gc\n",
    "import matplotlib\n",
    "import numpy as np\n",
    "import nibabel as nb\n",
    "\n",
    "%matplotlib inline\n",
    "BINS = 32"
   ]
  },
  {
   "cell_type": "code",
   "execution_count": 6,
   "metadata": {
    "collapsed": false
   },
   "outputs": [
    {
     "ename": "ImportError",
     "evalue": "cannot import name pyplot",
     "output_type": "error",
     "traceback": [
      "\u001b[1;31m---------------------------------------------------------------------------\u001b[0m",
      "\u001b[1;31mImportError\u001b[0m                               Traceback (most recent call last)",
      "\u001b[1;32m<ipython-input-6-0c0e6f548e62>\u001b[0m in \u001b[0;36m<module>\u001b[1;34m()\u001b[0m\n\u001b[0;32m      4\u001b[0m \u001b[1;32mimport\u001b[0m \u001b[0mnibabel\u001b[0m \u001b[1;32mas\u001b[0m \u001b[0mnb\u001b[0m\u001b[1;33m\u001b[0m\u001b[0m\n\u001b[0;32m      5\u001b[0m \u001b[1;33m\u001b[0m\u001b[0m\n\u001b[1;32m----> 6\u001b[1;33m \u001b[0mget_ipython\u001b[0m\u001b[1;33m(\u001b[0m\u001b[1;33m)\u001b[0m\u001b[1;33m.\u001b[0m\u001b[0mmagic\u001b[0m\u001b[1;33m(\u001b[0m\u001b[1;34mu'matplotlib inline'\u001b[0m\u001b[1;33m)\u001b[0m\u001b[1;33m\u001b[0m\u001b[0m\n\u001b[0m\u001b[0;32m      7\u001b[0m \u001b[0mBINS\u001b[0m \u001b[1;33m=\u001b[0m \u001b[1;36m32\u001b[0m\u001b[1;33m\u001b[0m\u001b[0m\n",
      "\u001b[1;32m/usr/local/lib/python2.7/dist-packages/IPython/core/interactiveshell.pyc\u001b[0m in \u001b[0;36mmagic\u001b[1;34m(self, arg_s)\u001b[0m\n\u001b[0;32m   2161\u001b[0m         \u001b[0mmagic_name\u001b[0m\u001b[1;33m,\u001b[0m \u001b[0m_\u001b[0m\u001b[1;33m,\u001b[0m \u001b[0mmagic_arg_s\u001b[0m \u001b[1;33m=\u001b[0m \u001b[0marg_s\u001b[0m\u001b[1;33m.\u001b[0m\u001b[0mpartition\u001b[0m\u001b[1;33m(\u001b[0m\u001b[1;34m' '\u001b[0m\u001b[1;33m)\u001b[0m\u001b[1;33m\u001b[0m\u001b[0m\n\u001b[0;32m   2162\u001b[0m         \u001b[0mmagic_name\u001b[0m \u001b[1;33m=\u001b[0m \u001b[0mmagic_name\u001b[0m\u001b[1;33m.\u001b[0m\u001b[0mlstrip\u001b[0m\u001b[1;33m(\u001b[0m\u001b[0mprefilter\u001b[0m\u001b[1;33m.\u001b[0m\u001b[0mESC_MAGIC\u001b[0m\u001b[1;33m)\u001b[0m\u001b[1;33m\u001b[0m\u001b[0m\n\u001b[1;32m-> 2163\u001b[1;33m         \u001b[1;32mreturn\u001b[0m \u001b[0mself\u001b[0m\u001b[1;33m.\u001b[0m\u001b[0mrun_line_magic\u001b[0m\u001b[1;33m(\u001b[0m\u001b[0mmagic_name\u001b[0m\u001b[1;33m,\u001b[0m \u001b[0mmagic_arg_s\u001b[0m\u001b[1;33m)\u001b[0m\u001b[1;33m\u001b[0m\u001b[0m\n\u001b[0m\u001b[0;32m   2164\u001b[0m \u001b[1;33m\u001b[0m\u001b[0m\n\u001b[0;32m   2165\u001b[0m     \u001b[1;31m#-------------------------------------------------------------------------\u001b[0m\u001b[1;33m\u001b[0m\u001b[1;33m\u001b[0m\u001b[0m\n",
      "\u001b[1;32m/usr/local/lib/python2.7/dist-packages/IPython/core/interactiveshell.pyc\u001b[0m in \u001b[0;36mrun_line_magic\u001b[1;34m(self, magic_name, line)\u001b[0m\n\u001b[0;32m   2082\u001b[0m                 \u001b[0mkwargs\u001b[0m\u001b[1;33m[\u001b[0m\u001b[1;34m'local_ns'\u001b[0m\u001b[1;33m]\u001b[0m \u001b[1;33m=\u001b[0m \u001b[0msys\u001b[0m\u001b[1;33m.\u001b[0m\u001b[0m_getframe\u001b[0m\u001b[1;33m(\u001b[0m\u001b[0mstack_depth\u001b[0m\u001b[1;33m)\u001b[0m\u001b[1;33m.\u001b[0m\u001b[0mf_locals\u001b[0m\u001b[1;33m\u001b[0m\u001b[0m\n\u001b[0;32m   2083\u001b[0m             \u001b[1;32mwith\u001b[0m \u001b[0mself\u001b[0m\u001b[1;33m.\u001b[0m\u001b[0mbuiltin_trap\u001b[0m\u001b[1;33m:\u001b[0m\u001b[1;33m\u001b[0m\u001b[0m\n\u001b[1;32m-> 2084\u001b[1;33m                 \u001b[0mresult\u001b[0m \u001b[1;33m=\u001b[0m \u001b[0mfn\u001b[0m\u001b[1;33m(\u001b[0m\u001b[1;33m*\u001b[0m\u001b[0margs\u001b[0m\u001b[1;33m,\u001b[0m\u001b[1;33m**\u001b[0m\u001b[0mkwargs\u001b[0m\u001b[1;33m)\u001b[0m\u001b[1;33m\u001b[0m\u001b[0m\n\u001b[0m\u001b[0;32m   2085\u001b[0m             \u001b[1;32mreturn\u001b[0m \u001b[0mresult\u001b[0m\u001b[1;33m\u001b[0m\u001b[0m\n\u001b[0;32m   2086\u001b[0m \u001b[1;33m\u001b[0m\u001b[0m\n",
      "\u001b[1;32m<decorator-gen-106>\u001b[0m in \u001b[0;36mmatplotlib\u001b[1;34m(self, line)\u001b[0m\n",
      "\u001b[1;32m/usr/local/lib/python2.7/dist-packages/IPython/core/magic.pyc\u001b[0m in \u001b[0;36m<lambda>\u001b[1;34m(f, *a, **k)\u001b[0m\n\u001b[0;32m    191\u001b[0m     \u001b[1;31m# but it's overkill for just that one bit of state.\u001b[0m\u001b[1;33m\u001b[0m\u001b[1;33m\u001b[0m\u001b[0m\n\u001b[0;32m    192\u001b[0m     \u001b[1;32mdef\u001b[0m \u001b[0mmagic_deco\u001b[0m\u001b[1;33m(\u001b[0m\u001b[0marg\u001b[0m\u001b[1;33m)\u001b[0m\u001b[1;33m:\u001b[0m\u001b[1;33m\u001b[0m\u001b[0m\n\u001b[1;32m--> 193\u001b[1;33m         \u001b[0mcall\u001b[0m \u001b[1;33m=\u001b[0m \u001b[1;32mlambda\u001b[0m \u001b[0mf\u001b[0m\u001b[1;33m,\u001b[0m \u001b[1;33m*\u001b[0m\u001b[0ma\u001b[0m\u001b[1;33m,\u001b[0m \u001b[1;33m**\u001b[0m\u001b[0mk\u001b[0m\u001b[1;33m:\u001b[0m \u001b[0mf\u001b[0m\u001b[1;33m(\u001b[0m\u001b[1;33m*\u001b[0m\u001b[0ma\u001b[0m\u001b[1;33m,\u001b[0m \u001b[1;33m**\u001b[0m\u001b[0mk\u001b[0m\u001b[1;33m)\u001b[0m\u001b[1;33m\u001b[0m\u001b[0m\n\u001b[0m\u001b[0;32m    194\u001b[0m \u001b[1;33m\u001b[0m\u001b[0m\n\u001b[0;32m    195\u001b[0m         \u001b[1;32mif\u001b[0m \u001b[0mcallable\u001b[0m\u001b[1;33m(\u001b[0m\u001b[0marg\u001b[0m\u001b[1;33m)\u001b[0m\u001b[1;33m:\u001b[0m\u001b[1;33m\u001b[0m\u001b[0m\n",
      "\u001b[1;32m/usr/local/lib/python2.7/dist-packages/IPython/core/magics/pylab.pyc\u001b[0m in \u001b[0;36mmatplotlib\u001b[1;34m(self, line)\u001b[0m\n\u001b[0;32m     98\u001b[0m             \u001b[1;32mprint\u001b[0m\u001b[1;33m(\u001b[0m\u001b[1;34m\"Available matplotlib backends: %s\"\u001b[0m \u001b[1;33m%\u001b[0m \u001b[0mbackends_list\u001b[0m\u001b[1;33m)\u001b[0m\u001b[1;33m\u001b[0m\u001b[0m\n\u001b[0;32m     99\u001b[0m         \u001b[1;32melse\u001b[0m\u001b[1;33m:\u001b[0m\u001b[1;33m\u001b[0m\u001b[0m\n\u001b[1;32m--> 100\u001b[1;33m             \u001b[0mgui\u001b[0m\u001b[1;33m,\u001b[0m \u001b[0mbackend\u001b[0m \u001b[1;33m=\u001b[0m \u001b[0mself\u001b[0m\u001b[1;33m.\u001b[0m\u001b[0mshell\u001b[0m\u001b[1;33m.\u001b[0m\u001b[0menable_matplotlib\u001b[0m\u001b[1;33m(\u001b[0m\u001b[0margs\u001b[0m\u001b[1;33m.\u001b[0m\u001b[0mgui\u001b[0m\u001b[1;33m)\u001b[0m\u001b[1;33m\u001b[0m\u001b[0m\n\u001b[0m\u001b[0;32m    101\u001b[0m             \u001b[0mself\u001b[0m\u001b[1;33m.\u001b[0m\u001b[0m_show_matplotlib_backend\u001b[0m\u001b[1;33m(\u001b[0m\u001b[0margs\u001b[0m\u001b[1;33m.\u001b[0m\u001b[0mgui\u001b[0m\u001b[1;33m,\u001b[0m \u001b[0mbackend\u001b[0m\u001b[1;33m)\u001b[0m\u001b[1;33m\u001b[0m\u001b[0m\n\u001b[0;32m    102\u001b[0m \u001b[1;33m\u001b[0m\u001b[0m\n",
      "\u001b[1;32m/usr/local/lib/python2.7/dist-packages/IPython/core/interactiveshell.pyc\u001b[0m in \u001b[0;36menable_matplotlib\u001b[1;34m(self, gui)\u001b[0m\n\u001b[0;32m   2949\u001b[0m                 \u001b[0mgui\u001b[0m\u001b[1;33m,\u001b[0m \u001b[0mbackend\u001b[0m \u001b[1;33m=\u001b[0m \u001b[0mpt\u001b[0m\u001b[1;33m.\u001b[0m\u001b[0mfind_gui_and_backend\u001b[0m\u001b[1;33m(\u001b[0m\u001b[0mself\u001b[0m\u001b[1;33m.\u001b[0m\u001b[0mpylab_gui_select\u001b[0m\u001b[1;33m)\u001b[0m\u001b[1;33m\u001b[0m\u001b[0m\n\u001b[0;32m   2950\u001b[0m \u001b[1;33m\u001b[0m\u001b[0m\n\u001b[1;32m-> 2951\u001b[1;33m         \u001b[0mpt\u001b[0m\u001b[1;33m.\u001b[0m\u001b[0mactivate_matplotlib\u001b[0m\u001b[1;33m(\u001b[0m\u001b[0mbackend\u001b[0m\u001b[1;33m)\u001b[0m\u001b[1;33m\u001b[0m\u001b[0m\n\u001b[0m\u001b[0;32m   2952\u001b[0m         \u001b[0mpt\u001b[0m\u001b[1;33m.\u001b[0m\u001b[0mconfigure_inline_support\u001b[0m\u001b[1;33m(\u001b[0m\u001b[0mself\u001b[0m\u001b[1;33m,\u001b[0m \u001b[0mbackend\u001b[0m\u001b[1;33m)\u001b[0m\u001b[1;33m\u001b[0m\u001b[0m\n\u001b[0;32m   2953\u001b[0m \u001b[1;33m\u001b[0m\u001b[0m\n",
      "\u001b[1;32m/usr/local/lib/python2.7/dist-packages/IPython/core/pylabtools.pyc\u001b[0m in \u001b[0;36mactivate_matplotlib\u001b[1;34m(backend)\u001b[0m\n\u001b[0;32m    293\u001b[0m     \u001b[0mmatplotlib\u001b[0m\u001b[1;33m.\u001b[0m\u001b[0mrcParams\u001b[0m\u001b[1;33m[\u001b[0m\u001b[1;34m'backend'\u001b[0m\u001b[1;33m]\u001b[0m \u001b[1;33m=\u001b[0m \u001b[0mbackend\u001b[0m\u001b[1;33m\u001b[0m\u001b[0m\n\u001b[0;32m    294\u001b[0m \u001b[1;33m\u001b[0m\u001b[0m\n\u001b[1;32m--> 295\u001b[1;33m     \u001b[1;32mimport\u001b[0m \u001b[0mmatplotlib\u001b[0m\u001b[1;33m.\u001b[0m\u001b[0mpyplot\u001b[0m\u001b[1;33m\u001b[0m\u001b[0m\n\u001b[0m\u001b[0;32m    296\u001b[0m     \u001b[0mmatplotlib\u001b[0m\u001b[1;33m.\u001b[0m\u001b[0mpyplot\u001b[0m\u001b[1;33m.\u001b[0m\u001b[0mswitch_backend\u001b[0m\u001b[1;33m(\u001b[0m\u001b[0mbackend\u001b[0m\u001b[1;33m)\u001b[0m\u001b[1;33m\u001b[0m\u001b[0m\n\u001b[0;32m    297\u001b[0m \u001b[1;33m\u001b[0m\u001b[0m\n",
      "\u001b[1;32m/usr/lib/python2.7/dist-packages/matplotlib/pyplot.py\u001b[0m in \u001b[0;36m<module>\u001b[1;34m()\u001b[0m\n\u001b[0;32m    112\u001b[0m \u001b[1;33m\u001b[0m\u001b[0m\n\u001b[0;32m    113\u001b[0m \u001b[1;32mfrom\u001b[0m \u001b[0mmatplotlib\u001b[0m\u001b[1;33m.\u001b[0m\u001b[0mbackends\u001b[0m \u001b[1;32mimport\u001b[0m \u001b[0mpylab_setup\u001b[0m\u001b[1;33m\u001b[0m\u001b[0m\n\u001b[1;32m--> 114\u001b[1;33m \u001b[0m_backend_mod\u001b[0m\u001b[1;33m,\u001b[0m \u001b[0mnew_figure_manager\u001b[0m\u001b[1;33m,\u001b[0m \u001b[0mdraw_if_interactive\u001b[0m\u001b[1;33m,\u001b[0m \u001b[0m_show\u001b[0m \u001b[1;33m=\u001b[0m \u001b[0mpylab_setup\u001b[0m\u001b[1;33m(\u001b[0m\u001b[1;33m)\u001b[0m\u001b[1;33m\u001b[0m\u001b[0m\n\u001b[0m\u001b[0;32m    115\u001b[0m \u001b[1;33m\u001b[0m\u001b[0m\n\u001b[0;32m    116\u001b[0m \u001b[0m_IP_REGISTERED\u001b[0m \u001b[1;33m=\u001b[0m \u001b[0mNone\u001b[0m\u001b[1;33m\u001b[0m\u001b[0m\n",
      "\u001b[1;32m/usr/lib/python2.7/dist-packages/matplotlib/backends/__init__.pyc\u001b[0m in \u001b[0;36mpylab_setup\u001b[1;34m()\u001b[0m\n\u001b[0;32m     30\u001b[0m     \u001b[1;31m# imports. 0 means only perform absolute imports.\u001b[0m\u001b[1;33m\u001b[0m\u001b[1;33m\u001b[0m\u001b[0m\n\u001b[0;32m     31\u001b[0m     backend_mod = __import__(backend_name,\n\u001b[1;32m---> 32\u001b[1;33m                              globals(),locals(),[backend_name],0)\n\u001b[0m\u001b[0;32m     33\u001b[0m \u001b[1;33m\u001b[0m\u001b[0m\n\u001b[0;32m     34\u001b[0m     \u001b[1;31m# Things we pull in from all backends\u001b[0m\u001b[1;33m\u001b[0m\u001b[1;33m\u001b[0m\u001b[0m\n",
      "\u001b[1;32m/usr/local/lib/python2.7/dist-packages/ipykernel/pylab/backend_inline.py\u001b[0m in \u001b[0;36m<module>\u001b[1;34m()\u001b[0m\n\u001b[0;32m    154\u001b[0m         \u001b[0mconfigure_inline_support\u001b[0m\u001b[1;33m(\u001b[0m\u001b[0mip\u001b[0m\u001b[1;33m,\u001b[0m \u001b[0mbackend\u001b[0m\u001b[1;33m)\u001b[0m\u001b[1;33m\u001b[0m\u001b[0m\n\u001b[0;32m    155\u001b[0m \u001b[1;33m\u001b[0m\u001b[0m\n\u001b[1;32m--> 156\u001b[1;33m \u001b[0m_enable_matplotlib_integration\u001b[0m\u001b[1;33m(\u001b[0m\u001b[1;33m)\u001b[0m\u001b[1;33m\u001b[0m\u001b[0m\n\u001b[0m",
      "\u001b[1;32m/usr/local/lib/python2.7/dist-packages/ipykernel/pylab/backend_inline.py\u001b[0m in \u001b[0;36m_enable_matplotlib_integration\u001b[1;34m()\u001b[0m\n\u001b[0;32m    152\u001b[0m     \u001b[0mbackend\u001b[0m \u001b[1;33m=\u001b[0m \u001b[0mget_backend\u001b[0m\u001b[1;33m(\u001b[0m\u001b[1;33m)\u001b[0m\u001b[1;33m\u001b[0m\u001b[0m\n\u001b[0;32m    153\u001b[0m     \u001b[1;32mif\u001b[0m \u001b[0mip\u001b[0m \u001b[1;32mand\u001b[0m \u001b[0mbackend\u001b[0m \u001b[1;33m==\u001b[0m \u001b[1;34m'module://%s'\u001b[0m \u001b[1;33m%\u001b[0m \u001b[0m__name__\u001b[0m\u001b[1;33m:\u001b[0m\u001b[1;33m\u001b[0m\u001b[0m\n\u001b[1;32m--> 154\u001b[1;33m         \u001b[0mconfigure_inline_support\u001b[0m\u001b[1;33m(\u001b[0m\u001b[0mip\u001b[0m\u001b[1;33m,\u001b[0m \u001b[0mbackend\u001b[0m\u001b[1;33m)\u001b[0m\u001b[1;33m\u001b[0m\u001b[0m\n\u001b[0m\u001b[0;32m    155\u001b[0m \u001b[1;33m\u001b[0m\u001b[0m\n\u001b[0;32m    156\u001b[0m \u001b[0m_enable_matplotlib_integration\u001b[0m\u001b[1;33m(\u001b[0m\u001b[1;33m)\u001b[0m\u001b[1;33m\u001b[0m\u001b[0m\n",
      "\u001b[1;32m/usr/local/lib/python2.7/dist-packages/IPython/core/pylabtools.pyc\u001b[0m in \u001b[0;36mconfigure_inline_support\u001b[1;34m(shell, backend)\u001b[0m\n\u001b[0;32m    359\u001b[0m     \u001b[1;32mexcept\u001b[0m \u001b[0mImportError\u001b[0m\u001b[1;33m:\u001b[0m\u001b[1;33m\u001b[0m\u001b[0m\n\u001b[0;32m    360\u001b[0m         \u001b[1;32mreturn\u001b[0m\u001b[1;33m\u001b[0m\u001b[0m\n\u001b[1;32m--> 361\u001b[1;33m     \u001b[1;32mfrom\u001b[0m \u001b[0mmatplotlib\u001b[0m \u001b[1;32mimport\u001b[0m \u001b[0mpyplot\u001b[0m\u001b[1;33m\u001b[0m\u001b[0m\n\u001b[0m\u001b[0;32m    362\u001b[0m \u001b[1;33m\u001b[0m\u001b[0m\n\u001b[0;32m    363\u001b[0m     \u001b[0mcfg\u001b[0m \u001b[1;33m=\u001b[0m \u001b[0mInlineBackend\u001b[0m\u001b[1;33m.\u001b[0m\u001b[0minstance\u001b[0m\u001b[1;33m(\u001b[0m\u001b[0mparent\u001b[0m\u001b[1;33m=\u001b[0m\u001b[0mshell\u001b[0m\u001b[1;33m)\u001b[0m\u001b[1;33m\u001b[0m\u001b[0m\n",
      "\u001b[1;31mImportError\u001b[0m: cannot import name pyplot"
     ]
    }
   ],
   "source": [
    "import csv,gc\n",
    "import matplotlib\n",
    "import numpy as np\n",
    "import nibabel as nb\n",
    "\n",
    "%matplotlib inline\n",
    "BINS = 32"
   ]
  },
  {
   "cell_type": "code",
   "execution_count": 1,
   "metadata": {
    "collapsed": false
   },
   "outputs": [],
   "source": [
    "### Run below if necessary\n",
    "\n",
    "##import sys\n",
    "\n",
    "##sys.path.append('/usr/local/lib/python2.7/site-packages')\n",
    "\n",
    "import math\n",
    "import csv,gc\n",
    "import matplotlib\n",
    "import numpy as np\n",
    "import cv2\n",
    "\n",
    "#%matplotlib\n",
    "BINS = 32"
   ]
  },
  {
   "cell_type": "code",
   "execution_count": 2,
   "metadata": {
    "collapsed": false
   },
   "outputs": [],
   "source": [
    "import matplotlib.pyplot as plt\n",
    "%matplotlib inline"
   ]
  },
  {
   "cell_type": "code",
   "execution_count": 3,
   "metadata": {
    "collapsed": true
   },
   "outputs": [],
   "source": [
    "from skimage import data, img_as_float\n",
    "from skimage import exposure"
   ]
  },
  {
   "cell_type": "code",
   "execution_count": 12,
   "metadata": {
    "collapsed": false
   },
   "outputs": [
    {
     "name": "stdout",
     "output_type": "stream",
     "text": [
      "[[3 6]\n",
      " [3 0]]\n"
     ]
    }
   ],
   "source": [
    "z = np.random.randint(0.0,10.0,(2,2))\n",
    "print z"
   ]
  },
  {
   "cell_type": "code",
   "execution_count": 13,
   "metadata": {
    "collapsed": false
   },
   "outputs": [
    {
     "name": "stdout",
     "output_type": "stream",
     "text": [
      "[3 6]\n",
      "[3 0]\n"
     ]
    }
   ],
   "source": [
    "print z[0]\n",
    "print z[1]"
   ]
  },
  {
   "cell_type": "code",
   "execution_count": 57,
   "metadata": {
    "collapsed": false
   },
   "outputs": [
    {
     "name": "stdout",
     "output_type": "stream",
     "text": [
      "[3 6 3 0]\n",
      "12\n"
     ]
    }
   ],
   "source": [
    "zz = z.reshape(-1)\n",
    "print zz\n",
    "print zz.sum()"
   ]
  },
  {
   "cell_type": "code",
   "execution_count": 58,
   "metadata": {
    "collapsed": false
   },
   "outputs": [
    {
     "data": {
      "image/png": "[encoded data removed]",
      "text/plain": [
       "<matplotlib.figure.Figure at 0x7fbecb1d6f90>"
      ]
     },
     "metadata": {},
     "output_type": "display_data"
    }
   ],
   "source": [
    "plt.hist(zz, bins='auto')\n",
    "plt.show()\n",
    "\n",
    "## We expect 1 zero, 2 threes, 1 six"
   ]
  },
  {
   "cell_type": "code",
   "execution_count": 59,
   "metadata": {
    "collapsed": false
   },
   "outputs": [
    {
     "data": {
      "image/png": "[encoded data removed]",
      "text/plain": [
       "<matplotlib.figure.Figure at 0x7fbecb13d090>"
      ]
     },
     "metadata": {},
     "output_type": "display_data"
    }
   ],
   "source": [
    "plt.hist(zz, bins = 10)\n",
    "plt.show()"
   ]
  },
  {
   "cell_type": "code",
   "execution_count": 102,
   "metadata": {
    "collapsed": false
   },
   "outputs": [
    {
     "name": "stdout",
     "output_type": "stream",
     "text": [
      "[ 0.25  0.5   0.25  0.  ]\n"
     ]
    },
    {
     "data": {
      "text/plain": [
       "<function matplotlib.pyplot.show>"
      ]
     },
     "execution_count": 102,
     "metadata": {},
     "output_type": "execute_result"
    },
    {
     "data": {
      "image/png": "[encoded data removed]",
      "text/plain": [
       "<matplotlib.figure.Figure at 0x7fbecc8ff450>"
      ]
     },
     "metadata": {},
     "output_type": "display_data"
    }
   ],
   "source": [
    "## Histogram Normalization\n",
    "'''zhisteq = zz\n",
    "zz.astype(float)\n",
    "i=0\n",
    "while i<7:\n",
    "    zhisteq[i] = (zz[i]/histsum)\n",
    "    i+=1\n",
    "zhisteq.astype(float)\n",
    "print zhisteq '''\n",
    "\n",
    "zhistnorm = zz*1.0/sum(zz)\n",
    "print zhistnorm\n",
    "\n",
    "plt.hist(zhistnorm, bins = 7)\n",
    "plt.show"
   ]
  },
  {
   "cell_type": "markdown",
   "metadata": {},
   "source": [
    "Let's pretend Z is a very simple image"
   ]
  },
  {
   "cell_type": "code",
   "execution_count": 93,
   "metadata": {
    "collapsed": false
   },
   "outputs": [
    {
     "name": "stdout",
     "output_type": "stream",
     "text": [
      "[[3 6]\n",
      " [3 0]]\n",
      "The number of pixels is 4\n",
      "The histogram values are {0: 1, 1: 0, 2: 0, 3: 2, 4: 0, 5: 0, 6: 1, 7: 0, 8: 0, 9: 0}\n",
      "The cdf values are {0: 1, 1: 1, 2: 1, 3: 3, 4: 3, 5: 3, 6: 4, 7: 4, 8: 4, 9: 4}\n",
      "The normalized cdf values are {0: 0, 1: 0, 2: 0, 3: 0, 4: 0, 5: 0, 6: 0, 7: 0, 8: 0, 9: 0}\n"
     ]
    }
   ],
   "source": [
    "import math\n",
    "\n",
    "## Reminder of Z's values\n",
    "print z\n",
    "\n",
    "# Number of pixels\n",
    "pixels = len(z) * len(z[0])\n",
    "print \"The number of pixels is {}\".format(pixels)\n",
    "## The output should be 4 since there are 4 numbers in this array\n",
    "\n",
    "##Flatten method doesn't work because of tuple conversion later on\n",
    "'''# Now we flatten Z\n",
    "zz = z.reshape(-1)'''\n",
    "\n",
    "\n",
    "# Initialize histogram and CDF\n",
    "hist = {}\n",
    "cdf = {}\n",
    "norm_cdf = {}\n",
    "## The range value should be be adjusted to the bin number\n",
    "### In our case the range and bin number is obviously 10 \n",
    "### since we generated numbers 1-10\n",
    "BINS = 10\n",
    "\n",
    "for i in range(BINS):\n",
    "    hist[i] = 0\n",
    "    cdf[i] = 0\n",
    "    norm_cdf[i] = 0\n",
    "\n",
    "# Create histogram\n",
    "\n",
    "\n",
    "for row in z:\n",
    "    for val in row:\n",
    "        hist[val] += 1\n",
    "\n",
    "'''\n",
    "for val in zz:\n",
    "    hist[val] += 1\n",
    "'''    \n",
    "\n",
    "\n",
    "# Create cdf\n",
    "for i in range(BINS):\n",
    "    for j in range(i+1):\n",
    "        cdf[i] += hist[j]\n",
    "    norm_cdf[i] = int(math.floor(float(cdf[i]-1)/63*BINS))\n",
    "    \n",
    "print \"The histogram values are {}\".format(hist)\n",
    "print \"The cdf values are {}\".format(cdf)\n",
    "print \"The normalized cdf values are {}\".format(norm_cdf)\n"
   ]
  },
  {
   "cell_type": "markdown",
   "metadata": {},
   "source": [
    "This matches our constructed histogram so we can proceed to create a new histogram and construct the equalized one"
   ]
  },
  {
   "cell_type": "code",
   "execution_count": 94,
   "metadata": {
    "collapsed": false
   },
   "outputs": [
    {
     "name": "stdout",
     "output_type": "stream",
     "text": [
      "[[ 0.  0.]\n",
      " [ 0.  0.]]\n",
      "(2, 2)\n",
      "2 2\n"
     ]
    }
   ],
   "source": [
    "newimg = np.empty(z.shape)\n",
    "## This should be the same exact dimensions as the original array\n",
    "print newimg \n",
    "print z.shape\n",
    "\n",
    "## set x_length to the first number, y_length to the second\n",
    "x_length = z.shape[0]\n",
    "y_length = z.shape[1]\n",
    "\n",
    "print x_length, y_length"
   ]
  },
  {
   "cell_type": "code",
   "execution_count": 95,
   "metadata": {
    "collapsed": false
   },
   "outputs": [
    {
     "name": "stdout",
     "output_type": "stream",
     "text": [
      "[[ 0.  0.]\n",
      " [ 0.  0.]]\n"
     ]
    }
   ],
   "source": [
    "for i in range(x_length):\n",
    "    for j in range(y_length):\n",
    "        newimg[i][j] = norm_cdf[ z[i][j] ]\n",
    "\n",
    "print newimg"
   ]
  },
  {
   "cell_type": "markdown",
   "metadata": {},
   "source": [
    "This probably didn't work because of the tiny size of the array, let's try something more established"
   ]
  },
  {
   "cell_type": "code",
   "execution_count": 5,
   "metadata": {
    "collapsed": false
   },
   "outputs": [
    {
     "name": "stdout",
     "output_type": "stream",
     "text": [
      "[[ 52  55  61  66  70  61  64  73]\n",
      " [ 63  59  55  90 109  85  69  72]\n",
      " [ 62  59  68 113 144 104  66  73]\n",
      " [ 63  58  71 122 154 106  70  69]\n",
      " [ 67  61  68 104 126  88  68  70]\n",
      " [ 79  65  60  70  77  68  58  75]\n",
      " [ 85  71  64  59  55  61  65  83]\n",
      " [ 87  79  69  68  65  76  78  94]]\n",
      " \n",
      "[52 55 61 66 70 61 64 73]\n",
      "[ 63  59  55  90 109  85  69  72]\n",
      " \n",
      "[ 52  55  61  66  70  61  64  73  63  59  55  90 109  85  69  72  62  59\n",
      "  68 113 144 104  66  73  63  58  71 122 154 106  70  69  67  61  68 104\n",
      " 126  88  68  70  79  65  60  70  77  68  58  75  85  71  64  59  55  61\n",
      "  65  83  87  79  69  68  65  76  78  94]\n",
      "4869\n",
      " \n"
     ]
    },
    {
     "data": {
      "image/png": "[encoded data removed]",
      "text/plain": [
       "<matplotlib.figure.Figure at 0x7f990c24dfd0>"
      ]
     },
     "metadata": {},
     "output_type": "display_data"
    },
    {
     "name": "stdout",
     "output_type": "stream",
     "text": [
      " \n",
      "[ 0.01067981  0.01129595  0.01252824  0.01355514  0.01437667  0.01252824\n",
      "  0.01314438  0.01499281  0.012939    0.01211748  0.01129595  0.01848429\n",
      "  0.02238653  0.01745738  0.01417129  0.01478743  0.01273362  0.01211748\n",
      "  0.01396591  0.02320805  0.02957486  0.02135962  0.01355514  0.01499281\n",
      "  0.012939    0.0119121   0.01458205  0.02505648  0.03162867  0.02177038\n",
      "  0.01437667  0.01417129  0.01376053  0.01252824  0.01396591  0.02135962\n",
      "  0.025878    0.01807353  0.01396591  0.01437667  0.0162251   0.01334976\n",
      "  0.01232286  0.01437667  0.01581434  0.01396591  0.0119121   0.01540357\n",
      "  0.01745738  0.01458205  0.01314438  0.01211748  0.01129595  0.01252824\n",
      "  0.01334976  0.01704662  0.01786815  0.0162251   0.01417129  0.01396591\n",
      "  0.01334976  0.01560895  0.01601972  0.01930581]\n"
     ]
    },
    {
     "data": {
      "text/plain": [
       "<function matplotlib.pyplot.show>"
      ]
     },
     "execution_count": 5,
     "metadata": {},
     "output_type": "execute_result"
    },
    {
     "data": {
      "image/png": "[encoded data removed]",
      "text/plain": [
       "<matplotlib.figure.Figure at 0x7f98ced6ad50>"
      ]
     },
     "metadata": {},
     "output_type": "display_data"
    }
   ],
   "source": [
    "img = [\n",
    "    [52, 55, 61,  66,  70,  61, 64, 73],\n",
    "    [63, 59, 55,  90, 109,  85, 69, 72],\n",
    "    [62, 59, 68, 113, 144, 104, 66, 73],\n",
    "    [63, 58, 71, 122, 154, 106, 70, 69],\n",
    "    [67, 61, 68, 104, 126,  88, 68, 70],\n",
    "    [79, 65, 60,  70,  77,  68, 58, 75],\n",
    "    [85, 71, 64,  59,  55,  61, 65, 83],\n",
    "    [87, 79, 69,  68,  65,  76, 78, 94]\n",
    "]\n",
    "\n",
    "img = np.asarray(img)\n",
    "print img\n",
    "\n",
    "print \" \"\n",
    "\n",
    "print img[0]\n",
    "print img[1]\n",
    "\n",
    "print \" \"\n",
    "\n",
    "imgflat = img.reshape(-1)\n",
    "print imgflat\n",
    "print imgflat.sum()\n",
    "\n",
    "print \" \"\n",
    "fig = plt.hist(imgflat, bins='auto')\n",
    "plt.title('Histogram')\n",
    "plt.show()\n",
    "\n",
    "print \" \"\n",
    "\n",
    "imgnorm = imgflat*1.0/sum(imgflat)\n",
    "print imgnorm\n",
    "\n",
    "fig = plt.hist(imgnorm, bins = 'auto')\n",
    "plt.title('Normalized Histogram')\n",
    "plt.show\n"
   ]
  },
  {
   "cell_type": "code",
   "execution_count": 6,
   "metadata": {
    "collapsed": false
   },
   "outputs": [
    {
     "name": "stdout",
     "output_type": "stream",
     "text": [
      "[[ 52  55  61  66  70  61  64  73]\n",
      " [ 63  59  55  90 109  85  69  72]\n",
      " [ 62  59  68 113 144 104  66  73]\n",
      " [ 63  58  71 122 154 106  70  69]\n",
      " [ 67  61  68 104 126  88  68  70]\n",
      " [ 79  65  60  70  77  68  58  75]\n",
      " [ 85  71  64  59  55  61  65  83]\n",
      " [ 87  79  69  68  65  76  78  94]]\n",
      "The number of pixels is 64\n",
      "The histogram values are {0: 0, 1: 0, 2: 0, 3: 0, 4: 0, 5: 0, 6: 0, 7: 0, 8: 0, 9: 0, 10: 0, 11: 0, 12: 0, 13: 0, 14: 0, 15: 0, 16: 0, 17: 0, 18: 0, 19: 0, 20: 0, 21: 0, 22: 0, 23: 0, 24: 0, 25: 0, 26: 0, 27: 0, 28: 0, 29: 0, 30: 0, 31: 0, 32: 0, 33: 0, 34: 0, 35: 0, 36: 0, 37: 0, 38: 0, 39: 0, 40: 0, 41: 0, 42: 0, 43: 0, 44: 0, 45: 0, 46: 0, 47: 0, 48: 0, 49: 0, 50: 0, 51: 0, 52: 1, 53: 0, 54: 0, 55: 3, 56: 0, 57: 0, 58: 2, 59: 3, 60: 1, 61: 4, 62: 1, 63: 2, 64: 2, 65: 3, 66: 2, 67: 1, 68: 5, 69: 3, 70: 4, 71: 2, 72: 1, 73: 2, 74: 0, 75: 1, 76: 1, 77: 1, 78: 1, 79: 2, 80: 0, 81: 0, 82: 0, 83: 1, 84: 0, 85: 2, 86: 0, 87: 1, 88: 1, 89: 0, 90: 1, 91: 0, 92: 0, 93: 0, 94: 1, 95: 0, 96: 0, 97: 0, 98: 0, 99: 0, 100: 0, 101: 0, 102: 0, 103: 0, 104: 2, 105: 0, 106: 1, 107: 0, 108: 0, 109: 1, 110: 0, 111: 0, 112: 0, 113: 1, 114: 0, 115: 0, 116: 0, 117: 0, 118: 0, 119: 0, 120: 0, 121: 0, 122: 1, 123: 0, 124: 0, 125: 0, 126: 1, 127: 0, 128: 0, 129: 0, 130: 0, 131: 0, 132: 0, 133: 0, 134: 0, 135: 0, 136: 0, 137: 0, 138: 0, 139: 0, 140: 0, 141: 0, 142: 0, 143: 0, 144: 1, 145: 0, 146: 0, 147: 0, 148: 0, 149: 0, 150: 0, 151: 0, 152: 0, 153: 0, 154: 1, 155: 0, 156: 0, 157: 0, 158: 0, 159: 0, 160: 0, 161: 0, 162: 0, 163: 0, 164: 0, 165: 0, 166: 0, 167: 0, 168: 0, 169: 0, 170: 0, 171: 0, 172: 0, 173: 0, 174: 0, 175: 0, 176: 0, 177: 0, 178: 0, 179: 0, 180: 0, 181: 0, 182: 0, 183: 0, 184: 0, 185: 0, 186: 0, 187: 0, 188: 0, 189: 0, 190: 0, 191: 0, 192: 0, 193: 0, 194: 0, 195: 0, 196: 0, 197: 0, 198: 0, 199: 0, 200: 0, 201: 0, 202: 0, 203: 0, 204: 0, 205: 0, 206: 0, 207: 0, 208: 0, 209: 0, 210: 0, 211: 0, 212: 0, 213: 0, 214: 0, 215: 0, 216: 0, 217: 0, 218: 0, 219: 0, 220: 0, 221: 0, 222: 0, 223: 0, 224: 0, 225: 0, 226: 0, 227: 0, 228: 0, 229: 0, 230: 0, 231: 0, 232: 0, 233: 0, 234: 0, 235: 0, 236: 0, 237: 0, 238: 0, 239: 0, 240: 0, 241: 0, 242: 0, 243: 0, 244: 0, 245: 0, 246: 0, 247: 0, 248: 0, 249: 0, 250: 0, 251: 0, 252: 0, 253: 0, 254: 0}\n",
      "The cdf values are {0: 0, 1: 0, 2: 0, 3: 0, 4: 0, 5: 0, 6: 0, 7: 0, 8: 0, 9: 0, 10: 0, 11: 0, 12: 0, 13: 0, 14: 0, 15: 0, 16: 0, 17: 0, 18: 0, 19: 0, 20: 0, 21: 0, 22: 0, 23: 0, 24: 0, 25: 0, 26: 0, 27: 0, 28: 0, 29: 0, 30: 0, 31: 0, 32: 0, 33: 0, 34: 0, 35: 0, 36: 0, 37: 0, 38: 0, 39: 0, 40: 0, 41: 0, 42: 0, 43: 0, 44: 0, 45: 0, 46: 0, 47: 0, 48: 0, 49: 0, 50: 0, 51: 0, 52: 1, 53: 1, 54: 1, 55: 4, 56: 4, 57: 4, 58: 6, 59: 9, 60: 10, 61: 14, 62: 15, 63: 17, 64: 19, 65: 22, 66: 24, 67: 25, 68: 30, 69: 33, 70: 37, 71: 39, 72: 40, 73: 42, 74: 42, 75: 43, 76: 44, 77: 45, 78: 46, 79: 48, 80: 48, 81: 48, 82: 48, 83: 49, 84: 49, 85: 51, 86: 51, 87: 52, 88: 53, 89: 53, 90: 54, 91: 54, 92: 54, 93: 54, 94: 55, 95: 55, 96: 55, 97: 55, 98: 55, 99: 55, 100: 55, 101: 55, 102: 55, 103: 55, 104: 57, 105: 57, 106: 58, 107: 58, 108: 58, 109: 59, 110: 59, 111: 59, 112: 59, 113: 60, 114: 60, 115: 60, 116: 60, 117: 60, 118: 60, 119: 60, 120: 60, 121: 60, 122: 61, 123: 61, 124: 61, 125: 61, 126: 62, 127: 62, 128: 62, 129: 62, 130: 62, 131: 62, 132: 62, 133: 62, 134: 62, 135: 62, 136: 62, 137: 62, 138: 62, 139: 62, 140: 62, 141: 62, 142: 62, 143: 62, 144: 63, 145: 63, 146: 63, 147: 63, 148: 63, 149: 63, 150: 63, 151: 63, 152: 63, 153: 63, 154: 64, 155: 64, 156: 64, 157: 64, 158: 64, 159: 64, 160: 64, 161: 64, 162: 64, 163: 64, 164: 64, 165: 64, 166: 64, 167: 64, 168: 64, 169: 64, 170: 64, 171: 64, 172: 64, 173: 64, 174: 64, 175: 64, 176: 64, 177: 64, 178: 64, 179: 64, 180: 64, 181: 64, 182: 64, 183: 64, 184: 64, 185: 64, 186: 64, 187: 64, 188: 64, 189: 64, 190: 64, 191: 64, 192: 64, 193: 64, 194: 64, 195: 64, 196: 64, 197: 64, 198: 64, 199: 64, 200: 64, 201: 64, 202: 64, 203: 64, 204: 64, 205: 64, 206: 64, 207: 64, 208: 64, 209: 64, 210: 64, 211: 64, 212: 64, 213: 64, 214: 64, 215: 64, 216: 64, 217: 64, 218: 64, 219: 64, 220: 64, 221: 64, 222: 64, 223: 64, 224: 64, 225: 64, 226: 64, 227: 64, 228: 64, 229: 64, 230: 64, 231: 64, 232: 64, 233: 64, 234: 64, 235: 64, 236: 64, 237: 64, 238: 64, 239: 64, 240: 64, 241: 64, 242: 64, 243: 64, 244: 64, 245: 64, 246: 64, 247: 64, 248: 64, 249: 64, 250: 64, 251: 64, 252: 64, 253: 64, 254: 64}\n",
      "The normalized cdf values are {0: -5, 1: -5, 2: -5, 3: -5, 4: -5, 5: -5, 6: -5, 7: -5, 8: -5, 9: -5, 10: -5, 11: -5, 12: -5, 13: -5, 14: -5, 15: -5, 16: -5, 17: -5, 18: -5, 19: -5, 20: -5, 21: -5, 22: -5, 23: -5, 24: -5, 25: -5, 26: -5, 27: -5, 28: -5, 29: -5, 30: -5, 31: -5, 32: -5, 33: -5, 34: -5, 35: -5, 36: -5, 37: -5, 38: -5, 39: -5, 40: -5, 41: -5, 42: -5, 43: -5, 44: -5, 45: -5, 46: -5, 47: -5, 48: -5, 49: -5, 50: -5, 51: -5, 52: 0, 53: 0, 54: 0, 55: 12, 56: 12, 57: 12, 58: 20, 59: 32, 60: 36, 61: 52, 62: 56, 63: 64, 64: 72, 65: 85, 66: 93, 67: 97, 68: 117, 69: 129, 70: 145, 71: 153, 72: 157, 73: 165, 74: 165, 75: 170, 76: 174, 77: 178, 78: 182, 79: 190, 80: 190, 81: 190, 82: 190, 83: 194, 84: 194, 85: 202, 86: 202, 87: 206, 88: 210, 89: 210, 90: 214, 91: 214, 92: 214, 93: 214, 94: 218, 95: 218, 96: 218, 97: 218, 98: 218, 99: 218, 100: 218, 101: 218, 102: 218, 103: 218, 104: 226, 105: 226, 106: 230, 107: 230, 108: 230, 109: 234, 110: 234, 111: 234, 112: 234, 113: 238, 114: 238, 115: 238, 116: 238, 117: 238, 118: 238, 119: 238, 120: 238, 121: 238, 122: 242, 123: 242, 124: 242, 125: 242, 126: 246, 127: 246, 128: 246, 129: 246, 130: 246, 131: 246, 132: 246, 133: 246, 134: 246, 135: 246, 136: 246, 137: 246, 138: 246, 139: 246, 140: 246, 141: 246, 142: 246, 143: 246, 144: 250, 145: 250, 146: 250, 147: 250, 148: 250, 149: 250, 150: 250, 151: 250, 152: 250, 153: 250, 154: 255, 155: 255, 156: 255, 157: 255, 158: 255, 159: 255, 160: 255, 161: 255, 162: 255, 163: 255, 164: 255, 165: 255, 166: 255, 167: 255, 168: 255, 169: 255, 170: 255, 171: 255, 172: 255, 173: 255, 174: 255, 175: 255, 176: 255, 177: 255, 178: 255, 179: 255, 180: 255, 181: 255, 182: 255, 183: 255, 184: 255, 185: 255, 186: 255, 187: 255, 188: 255, 189: 255, 190: 255, 191: 255, 192: 255, 193: 255, 194: 255, 195: 255, 196: 255, 197: 255, 198: 255, 199: 255, 200: 255, 201: 255, 202: 255, 203: 255, 204: 255, 205: 255, 206: 255, 207: 255, 208: 255, 209: 255, 210: 255, 211: 255, 212: 255, 213: 255, 214: 255, 215: 255, 216: 255, 217: 255, 218: 255, 219: 255, 220: 255, 221: 255, 222: 255, 223: 255, 224: 255, 225: 255, 226: 255, 227: 255, 228: 255, 229: 255, 230: 255, 231: 255, 232: 255, 233: 255, 234: 255, 235: 255, 236: 255, 237: 255, 238: 255, 239: 255, 240: 255, 241: 255, 242: 255, 243: 255, 244: 255, 245: 255, 246: 255, 247: 255, 248: 255, 249: 255, 250: 255, 251: 255, 252: 255, 253: 255, 254: 255}\n"
     ]
    }
   ],
   "source": [
    "import math\n",
    "\n",
    "## Reminder of Z's values\n",
    "print img\n",
    "\n",
    "# Number of pixels\n",
    "pixels = len(img) * len(img[0])\n",
    "print \"The number of pixels is {}\".format(pixels)\n",
    "## The output should be 4 since there are 4 numbers in this array\n",
    "\n",
    "##Flatten method doesn't work because of tuple conversion later on\n",
    "'''# Now we flatten Z\n",
    "zz = z.reshape(-1)'''\n",
    "\n",
    "\n",
    "# Initialize histogram and CDF\n",
    "hist = {}\n",
    "cdf = {}\n",
    "norm_cdf = {}\n",
    "## The range value should be be adjusted to the bin number\n",
    "\n",
    "BINS = 255\n",
    "\n",
    "for i in range(BINS):\n",
    "    hist[i] = 0\n",
    "    cdf[i] = 0\n",
    "    norm_cdf[i] = 0\n",
    "\n",
    "# Create histogram\n",
    "\n",
    "\n",
    "for row in img:\n",
    "    for val in row:\n",
    "        hist[val] += 1\n",
    "\n",
    "'''\n",
    "for val in zz:\n",
    "    hist[val] += 1\n",
    "'''    \n",
    "\n",
    "\n",
    "# Create cdf\n",
    "for i in range(BINS):\n",
    "    for j in range(i+1):\n",
    "        cdf[i] += hist[j]\n",
    "    norm_cdf[i] = int(math.floor(float(cdf[i]-1)/63*BINS))\n",
    "    \n",
    "print \"The histogram values are {}\".format(hist)\n",
    "print \"The cdf values are {}\".format(cdf)\n",
    "print \"The normalized cdf values are {}\".format(norm_cdf)"
   ]
  },
  {
   "cell_type": "code",
   "execution_count": 8,
   "metadata": {
    "collapsed": false
   },
   "outputs": [
    {
     "name": "stdout",
     "output_type": "stream",
     "text": [
      "[[ 0.  0.  0.  0.  0.  0.  0.  0.]\n",
      " [ 0.  0.  0.  0.  0.  0.  0.  0.]\n",
      " [ 0.  0.  0.  0.  0.  0.  0.  0.]\n",
      " [ 0.  0.  0.  0.  0.  0.  0.  0.]\n",
      " [ 0.  0.  0.  0.  0.  0.  0.  0.]\n",
      " [ 0.  0.  0.  0.  0.  0.  0.  0.]\n",
      " [ 0.  0.  0.  0.  0.  0.  0.  0.]\n",
      " [ 0.  0.  0.  0.  0.  0.  0.  0.]]\n",
      "(8, 8)\n",
      "8 8\n",
      "[[   0.   12.   52.   93.  145.   52.   72.  165.]\n",
      " [  64.   32.   12.  214.  234.  202.  129.  157.]\n",
      " [  56.   32.  117.  238.  250.  226.   93.  165.]\n",
      " [  64.   20.  153.  242.  255.  230.  145.  129.]\n",
      " [  97.   52.  117.  226.  246.  210.  117.  145.]\n",
      " [ 190.   85.   36.  145.  178.  117.   20.  170.]\n",
      " [ 202.  153.   72.   32.   12.   52.   85.  194.]\n",
      " [ 206.  190.  129.  117.   85.  174.  182.  218.]]\n"
     ]
    },
    {
     "data": {
      "text/plain": [
       "<function matplotlib.pyplot.show>"
      ]
     },
     "execution_count": 8,
     "metadata": {},
     "output_type": "execute_result"
    },
    {
     "data": {
      "image/png": "[encoded data removed]",
      "text/plain": [
       "<matplotlib.figure.Figure at 0x7f990c27f0d0>"
      ]
     },
     "metadata": {},
     "output_type": "display_data"
    }
   ],
   "source": [
    "newimg = np.empty(img.shape)\n",
    "## This should be the same exact dimensions as the original array\n",
    "print newimg \n",
    "print img.shape\n",
    "\n",
    "## set x_length to the first number, y_length to the second\n",
    "x_length = img.shape[0]\n",
    "y_length = img.shape[1]\n",
    "\n",
    "print x_length, y_length\n",
    "\n",
    "for i in range(x_length):\n",
    "    for j in range(y_length):\n",
    "        newimg[i][j] = norm_cdf[ img[i][j] ]\n",
    "\n",
    "print newimg\n",
    "fig = plt.hist(newimg, bins = 'auto')\n",
    "plt.title('Equalized Histogram')\n",
    "plt.show\n",
    "\n",
    "## This is wrong"
   ]
  },
  {
   "cell_type": "code",
   "execution_count": 12,
   "metadata": {
    "collapsed": false
   },
   "outputs": [
    {
     "name": "stdout",
     "output_type": "stream",
     "text": [
      "+-------+-----------+-----+----------------+\n",
      "| Value | Histogram | cdf | Normalized cdf |\n",
      "+-------+-----------+-----+----------------+\n",
      "|    52 |         1 |   1 |              0 |\n",
      "|    55 |         3 |   4 |             12 |\n",
      "|    58 |         2 |   6 |             20 |\n",
      "|    59 |         3 |   9 |             32 |\n",
      "|    60 |         1 |  10 |             36 |\n",
      "|    61 |         4 |  14 |             52 |\n",
      "|    62 |         1 |  15 |             56 |\n",
      "|    63 |         2 |  17 |             64 |\n",
      "|    64 |         2 |  19 |             72 |\n",
      "|    65 |         3 |  22 |             85 |\n",
      "|    66 |         2 |  24 |             93 |\n",
      "|    67 |         1 |  25 |             97 |\n",
      "|    68 |         5 |  30 |            117 |\n",
      "|    69 |         3 |  33 |            129 |\n",
      "|    70 |         4 |  37 |            145 |\n",
      "|    71 |         2 |  39 |            153 |\n",
      "|    72 |         1 |  40 |            157 |\n",
      "|    73 |         2 |  42 |            165 |\n",
      "|    75 |         1 |  43 |            170 |\n",
      "|    76 |         1 |  44 |            174 |\n",
      "|    77 |         1 |  45 |            178 |\n",
      "|    78 |         1 |  46 |            182 |\n",
      "|    79 |         2 |  48 |            190 |\n",
      "|    83 |         1 |  49 |            194 |\n",
      "|    85 |         2 |  51 |            202 |\n",
      "|    87 |         1 |  52 |            206 |\n",
      "|    88 |         1 |  53 |            210 |\n",
      "|    90 |         1 |  54 |            214 |\n",
      "|    94 |         1 |  55 |            218 |\n",
      "|   104 |         2 |  57 |            226 |\n",
      "|   106 |         1 |  58 |            230 |\n",
      "|   109 |         1 |  59 |            234 |\n",
      "|   113 |         1 |  60 |            238 |\n",
      "|   122 |         1 |  61 |            242 |\n",
      "|   126 |         1 |  62 |            246 |\n",
      "|   144 |         1 |  63 |            250 |\n",
      "|   154 |         1 |  64 |            255 |\n",
      "+-------+-----------+-----+----------------+\n",
      "\n",
      "Original subimage:\n",
      "\n",
      "  52  55  61  66  70  61  64  73\n",
      "  63  59  55  90 109  85  69  72\n",
      "  62  59  68 113 144 104  66  73\n",
      "  63  58  71 122 154 106  70  69\n",
      "  67  61  68 104 126  88  68  70\n",
      "  79  65  60  70  77  68  58  75\n",
      "  85  71  64  59  55  61  65  83\n",
      "  87  79  69  68  65  76  78  94\n",
      "\n",
      "\n",
      "Equalized subimage:\n",
      "\n",
      "   0  12  52  93 145  52  72 165\n",
      "  64  32  12 214 234 202 129 157\n",
      "  56  32 117 238 250 226  93 165\n",
      "  64  20 153 242 255 230 145 129\n",
      "  97  52 117 226 246 210 117 145\n",
      " 190  85  36 145 178 117  20 170\n",
      " 202 153  72  32  12  52  85 194\n",
      " 206 190 129 117  85 174 182 218\n"
     ]
    }
   ],
   "source": [
    "for i in range(8):\n",
    "    for j in range(8):\n",
    "        newimg[i][j] = norm_cdf[ img[i][j] ]\n",
    "\n",
    "print '+-------+-----------+-----+----------------+'\n",
    "print '| %5s | %9s | %3s | %14s |' % ('Value', 'Histogram', 'cdf', 'Normalized cdf')\n",
    "print '+-------+-----------+-----+----------------+'\n",
    "for i in range(255):\n",
    "    if hist[i] == 0: continue\n",
    "    print '| %5s | %9s | %3s | %14s |' % (i, hist[i], cdf[i], norm_cdf[i])\n",
    "print '+-------+-----------+-----+----------------+'\n",
    "\n",
    "print ''\n",
    "print 'Original subimage:'\n",
    "print ''\n",
    "for i in range(8):\n",
    "    print ('%4d'*8) % tuple(img[i])\n",
    "\n",
    "print ''\n",
    "print ''\n",
    "print 'Equalized subimage:'\n",
    "print ''\n",
    "\n",
    "for i in range(8):\n",
    "    print ('%4d'*8) % tuple(newimg[i])"
   ]
  },
  {
   "cell_type": "code",
   "execution_count": 13,
   "metadata": {
    "collapsed": false
   },
   "outputs": [
    {
     "name": "stdout",
     "output_type": "stream",
     "text": [
      "[[   0.   12.   52.   93.  145.   52.   72.  165.]\n",
      " [  64.   32.   12.  214.  234.  202.  129.  157.]\n",
      " [  56.   32.  117.  238.  250.  226.   93.  165.]\n",
      " [  64.   20.  153.  242.  255.  230.  145.  129.]\n",
      " [  97.   52.  117.  226.  246.  210.  117.  145.]\n",
      " [ 190.   85.   36.  145.  178.  117.   20.  170.]\n",
      " [ 202.  153.   72.   32.   12.   52.   85.  194.]\n",
      " [ 206.  190.  129.  117.   85.  174.  182.  218.]]\n"
     ]
    },
    {
     "ename": "ValueError",
     "evalue": "invalid literal for float(): 0  12  52  93 145  52  72 165",
     "output_type": "error",
     "traceback": [
      "\u001b[0;31m---------------------------------------------------------------------------\u001b[0m",
      "\u001b[0;31mValueError\u001b[0m                                Traceback (most recent call last)",
      "\u001b[0;32m<ipython-input-13-8b2a4d7927e7>\u001b[0m in \u001b[0;36m<module>\u001b[0;34m()\u001b[0m\n\u001b[1;32m     10\u001b[0m \u001b[0mhisteqimg\u001b[0m \u001b[0;34m=\u001b[0m \u001b[0mnp\u001b[0m\u001b[0;34m.\u001b[0m\u001b[0mempty\u001b[0m\u001b[0;34m(\u001b[0m\u001b[0mimg\u001b[0m\u001b[0;34m.\u001b[0m\u001b[0mshape\u001b[0m\u001b[0;34m)\u001b[0m\u001b[0;34m\u001b[0m\u001b[0m\n\u001b[1;32m     11\u001b[0m \u001b[0;32mfor\u001b[0m \u001b[0mi\u001b[0m \u001b[0;32min\u001b[0m \u001b[0mrange\u001b[0m\u001b[0;34m(\u001b[0m\u001b[0;36m8\u001b[0m\u001b[0;34m)\u001b[0m\u001b[0;34m:\u001b[0m\u001b[0;34m\u001b[0m\u001b[0m\n\u001b[0;32m---> 12\u001b[0;31m     \u001b[0mhisteqimg\u001b[0m\u001b[0;34m[\u001b[0m\u001b[0mi\u001b[0m\u001b[0;34m]\u001b[0m \u001b[0;34m=\u001b[0m \u001b[0;34m(\u001b[0m\u001b[0;34m'%4d'\u001b[0m\u001b[0;34m*\u001b[0m\u001b[0;36m8\u001b[0m\u001b[0;34m)\u001b[0m \u001b[0;34m%\u001b[0m \u001b[0mtuple\u001b[0m\u001b[0;34m(\u001b[0m\u001b[0mnewimg\u001b[0m\u001b[0;34m[\u001b[0m\u001b[0mi\u001b[0m\u001b[0;34m]\u001b[0m\u001b[0;34m)\u001b[0m\u001b[0;34m\u001b[0m\u001b[0m\n\u001b[0m\u001b[1;32m     13\u001b[0m \u001b[0;34m\u001b[0m\u001b[0m\n\u001b[1;32m     14\u001b[0m \u001b[0;32mprint\u001b[0m \u001b[0mhisteqimg\u001b[0m\u001b[0;34m\u001b[0m\u001b[0m\n",
      "\u001b[0;31mValueError\u001b[0m: invalid literal for float(): 0  12  52  93 145  52  72 165"
     ]
    },
    {
     "data": {
      "image/png": "[encoded data removed]",
      "text/plain": [
       "<matplotlib.figure.Figure at 0x7f98cc8d34d0>"
      ]
     },
     "metadata": {},
     "output_type": "display_data"
    }
   ],
   "source": [
    "for i in range(x_length):\n",
    "    for j in range(y_length):\n",
    "        newimg[i][j] = norm_cdf[ img[i][j] ]\n",
    "\n",
    "print newimg\n",
    "fig = plt.hist(newimg, bins = 'auto')\n",
    "plt.title('Equalized Histogram')\n",
    "plt.show\n",
    "\n",
    "histeqimg = np.empty(img.shape)\n",
    "for i in range(8):\n",
    "    histeqimg[i] = ('%4d'*8) % tuple(newimg[i])\n",
    "    \n",
    "    \n",
    "print histeqimg\n",
    "fig = plt.hist(histeqimg, bins = 'auto')\n",
    "plt.title('Equalized Histogram 2')\n",
    "plt.show"
   ]
  },
  {
   "cell_type": "code",
   "execution_count": 17,
   "metadata": {
    "collapsed": false
   },
   "outputs": [
    {
     "name": "stdout",
     "output_type": "stream",
     "text": [
      "array([[  9.76118064e-313,   2.37151510e-322,   0.00000000e+000,\n",
      "          0.00000000e+000,   0.00000000e+000,   0.00000000e+000,\n",
      "          0.00000000e+000,   0.00000000e+000],\n",
      "       [  0.00000000e+000,   0.00000000e+000,   0.00000000e+000,\n",
      "          0.00000000e+000,   0.00000000e+000,   0.00000000e+000,\n",
      "          0.00000000e+000,   0.00000000e+000],\n",
      "       [  9.76118064e-313,   2.37151510e-322,   0.00000000e+000,\n",
      "          0.00000000e+000,   0.00000000e+000,   0.00000000e+000,\n",
      "          0.00000000e+000,   0.00000000e+000],\n",
      "       [  0.00000000e+000,   0.00000000e+000,   0.00000000e+000,\n",
      "          0.00000000e+000,   0.00000000e+000,   0.00000000e+000,\n",
      "          0.00000000e+000,   0.00000000e+000],\n",
      "       [  9.76118064e-313,   2.37151510e-322,   0.00000000e+000,\n",
      "          0.00000000e+000,   0.00000000e+000,   0.00000000e+000,\n",
      "          0.00000000e+000,   0.00000000e+000],\n",
      "       [  0.00000000e+000,   0.00000000e+000,   0.00000000e+000,\n",
      "          0.00000000e+000,   0.00000000e+000,   0.00000000e+000,\n",
      "          0.00000000e+000,   0.00000000e+000],\n",
      "       [  9.76118064e-313,   2.37151510e-322,   0.00000000e+000,\n",
      "          0.00000000e+000,   0.00000000e+000,   0.00000000e+000,\n",
      "          0.00000000e+000,   0.00000000e+000],\n",
      "       [  0.00000000e+000,   0.00000000e+000,   0.00000000e+000,\n",
      "          0.00000000e+000,   0.00000000e+000,   0.00000000e+000,\n",
      "          0.00000000e+000,   0.00000000e+000]])\n"
     ]
    },
    {
     "ename": "AttributeError",
     "evalue": "'numpy.ndarray' object has no attribute 'append'",
     "output_type": "error",
     "traceback": [
      "\u001b[0;31m---------------------------------------------------------------------------\u001b[0m",
      "\u001b[0;31mAttributeError\u001b[0m                            Traceback (most recent call last)",
      "\u001b[0;32m<ipython-input-17-ad3c7c0c9483>\u001b[0m in \u001b[0;36m<module>\u001b[0;34m()\u001b[0m\n\u001b[1;32m      1\u001b[0m \u001b[0;32mprint\u001b[0m\u001b[0;34m(\u001b[0m\u001b[0mrepr\u001b[0m\u001b[0;34m(\u001b[0m\u001b[0mhisteqimg\u001b[0m\u001b[0;34m)\u001b[0m\u001b[0;34m)\u001b[0m\u001b[0;34m\u001b[0m\u001b[0m\n\u001b[0;32m----> 2\u001b[0;31m \u001b[0mhisteqimg\u001b[0m\u001b[0;34m.\u001b[0m\u001b[0mappend\u001b[0m\u001b[0;34m(\u001b[0m\u001b[0mline\u001b[0m\u001b[0;34m.\u001b[0m\u001b[0mstrip\u001b[0m\u001b[0;34m(\u001b[0m\u001b[0;34m'\\n'\u001b[0m\u001b[0;34m)\u001b[0m\u001b[0;34m.\u001b[0m\u001b[0mstrip\u001b[0m\u001b[0;34m(\u001b[0m\u001b[0;34m'\\t'\u001b[0m\u001b[0;34m)\u001b[0m\u001b[0;34m.\u001b[0m\u001b[0msplit\u001b[0m\u001b[0;34m(\u001b[0m\u001b[0;34m' '\u001b[0m\u001b[0;34m)\u001b[0m\u001b[0;34m.\u001b[0m\u001b[0mpop\u001b[0m\u001b[0;34m(\u001b[0m\u001b[0;36m7\u001b[0m\u001b[0;34m)\u001b[0m\u001b[0;34m)\u001b[0m\u001b[0;34m\u001b[0m\u001b[0m\n\u001b[0m",
      "\u001b[0;31mAttributeError\u001b[0m: 'numpy.ndarray' object has no attribute 'append'"
     ]
    }
   ],
   "source": [
    "print(repr(histeqimg))\n",
    "histeqimg.append(line.strip('\\n').strip('\\t').split(' ').pop(7))  \n",
    "### Errors caused by massive number of zeros?"
   ]
  },
  {
   "cell_type": "code",
   "execution_count": 35,
   "metadata": {
    "collapsed": false
   },
   "outputs": [
    {
     "name": "stdout",
     "output_type": "stream",
     "text": [
      "\n",
      "Original subimage:\n",
      "\n",
      "  52  55  61  66  70  61  64  73\n",
      "  63  59  55  90 109  85  69  72\n",
      "  62  59  68 113 144 104  66  73\n",
      "  63  58  71 122 154 106  70  69\n",
      "  67  61  68 104 126  88  68  70\n",
      "  79  65  60  70  77  68  58  75\n",
      "  85  71  64  59  55  61  65  83\n",
      "  87  79  69  68  65  76  78  94\n",
      "\n",
      "[[ 52  55  61  66  70  61  64  73]\n",
      " [ 63  59  55  90 109  85  69  72]\n",
      " [ 62  59  68 113 144 104  66  73]\n",
      " [ 63  58  71 122 154 106  70  69]\n",
      " [ 67  61  68 104 126  88  68  70]\n",
      " [ 79  65  60  70  77  68  58  75]\n",
      " [ 85  71  64  59  55  61  65  83]\n",
      " [ 87  79  69  68  65  76  78  94]]\n",
      " \n"
     ]
    },
    {
     "data": {
      "image/png": "[encoded data removed]",
      "text/plain": [
       "<matplotlib.figure.Figure at 0x7f98cc34d090>"
      ]
     },
     "metadata": {},
     "output_type": "display_data"
    },
    {
     "name": "stdout",
     "output_type": "stream",
     "text": [
      "\n",
      "\n",
      "Equalized subimage:\n",
      "\n",
      "   0  12  52  93 145  52  72 165\n",
      "  64  32  12 214 234 202 129 157\n",
      "  56  32 117 238 250 226  93 165\n",
      "  64  20 153 242 255 230 145 129\n",
      "  97  52 117 226 246 210 117 145\n",
      " 190  85  36 145 178 117  20 170\n",
      " 202 153  72  32  12  52  85 194\n",
      " 206 190 129 117  85 174 182 218\n",
      "\n",
      "[[   0.   12.   52.   93.  145.   52.   72.  165.]\n",
      " [  64.   32.   12.  214.  234.  202.  129.  157.]\n",
      " [  56.   32.  117.  238.  250.  226.   93.  165.]\n",
      " [  64.   20.  153.  242.  255.  230.  145.  129.]\n",
      " [  97.   52.  117.  226.  246.  210.  117.  145.]\n",
      " [ 190.   85.   36.  145.  178.  117.   20.  170.]\n",
      " [ 202.  153.   72.   32.   12.   52.   85.  194.]\n",
      " [ 206.  190.  129.  117.   85.  174.  182.  218.]]\n"
     ]
    },
    {
     "data": {
      "text/plain": [
       "<function matplotlib.pyplot.show>"
      ]
     },
     "execution_count": 35,
     "metadata": {},
     "output_type": "execute_result"
    },
    {
     "data": {
      "image/png": "[encoded data removed]",
      "text/plain": [
       "<matplotlib.figure.Figure at 0x7f98cc5aba10>"
      ]
     },
     "metadata": {},
     "output_type": "display_data"
    }
   ],
   "source": [
    "print ''\n",
    "print 'Original subimage:'\n",
    "print ''\n",
    "for i in range(8):\n",
    "    print ('%4d'*8) % tuple(img[i])\n",
    "print ''\n",
    "imgflat = img.reshape(-1)\n",
    "print img\n",
    "\n",
    "print \" \"\n",
    "fig = plt.hist(imgflat, bins='auto')\n",
    "plt.title('Original Histogram')\n",
    "plt.show()\n",
    "\n",
    "print ''\n",
    "print ''\n",
    "print 'Equalized subimage:'\n",
    "print ''\n",
    "\n",
    "for i in range(8):\n",
    "    print ('%4d'*8) % tuple(newimg[i])\n",
    "\n",
    "for i in range(x_length):\n",
    "    for j in range(y_length):\n",
    "        newimg[i][j] = norm_cdf[ img[i][j] ]\n",
    "print ''\n",
    "print newimg\n",
    "fig = plt.hist(newimg, bins = 'auto')\n",
    "plt.title('Equalized Histogram')\n",
    "plt.show"
   ]
  },
  {
   "cell_type": "code",
   "execution_count": 47,
   "metadata": {
    "collapsed": false
   },
   "outputs": [
    {
     "data": {
      "image/png": "[encoded data removed]",
      "text/plain": [
       "<matplotlib.figure.Figure at 0x7f98cbeae850>"
      ]
     },
     "metadata": {},
     "output_type": "display_data"
    }
   ],
   "source": [
    "fig = plt.hist(imgflat, bins=255)\n",
    "plt.title('Original Histogram')\n",
    "plt.show()"
   ]
  },
  {
   "cell_type": "code",
   "execution_count": 48,
   "metadata": {
    "collapsed": false
   },
   "outputs": [
    {
     "data": {
      "text/plain": [
       "<function matplotlib.pyplot.show>"
      ]
     },
     "execution_count": 48,
     "metadata": {},
     "output_type": "execute_result"
    },
    {
     "data": {
      "image/png": "[encoded data removed]",
      "text/plain": [
       "<matplotlib.figure.Figure at 0x7f98cc6691d0>"
      ]
     },
     "metadata": {},
     "output_type": "display_data"
    }
   ],
   "source": [
    "fig = plt.hist(newimg, bins = 255)\n",
    "plt.title('Equalized Histogram')\n",
    "plt.show"
   ]
  },
  {
   "cell_type": "code",
   "execution_count": 40,
   "metadata": {
    "collapsed": false
   },
   "outputs": [
    {
     "name": "stdout",
     "output_type": "stream",
     "text": [
      "[[ 52  55  61  66  70  61  64  73]\n",
      " [ 63  59  55  90 109  85  69  72]\n",
      " [ 62  59  68 113 144 104  66  73]\n",
      " [ 63  58  71 122 154 106  70  69]\n",
      " [ 67  61  68 104 126  88  68  70]\n",
      " [ 79  65  60  70  77  68  58  75]\n",
      " [ 85  71  64  59  55  61  65  83]\n",
      " [ 87  79  69  68  65  76  78  94]]\n",
      "\n",
      "[[   0.   12.   52.   93.  145.   52.   72.  165.]\n",
      " [  64.   32.   12.  214.  234.  202.  129.  157.]\n",
      " [  56.   32.  117.  238.  250.  226.   93.  165.]\n",
      " [  64.   20.  153.  242.  255.  230.  145.  129.]\n",
      " [  97.   52.  117.  226.  246.  210.  117.  145.]\n",
      " [ 190.   85.   36.  145.  178.  117.   20.  170.]\n",
      " [ 202.  153.   72.   32.   12.   52.   85.  194.]\n",
      " [ 206.  190.  129.  117.   85.  174.  182.  218.]]\n",
      "\n",
      "[ 52  55  61  66  70  61  64  73  63  59  55  90 109  85  69  72  62  59\n",
      "  68 113 144 104  66  73  63  58  71 122 154 106  70  69  67  61  68 104\n",
      " 126  88  68  70  79  65  60  70  77  68  58  75  85  71  64  59  55  61\n",
      "  65  83  87  79  69  68  65  76  78  94]\n",
      "[15 25  8  6  1  5  1  1  0  2]\n",
      "\n",
      "[   0.   12.   52.   93.  145.   52.   72.  165.   64.   32.   12.  214.\n",
      "  234.  202.  129.  157.   56.   32.  117.  238.  250.  226.   93.  165.\n",
      "   64.   20.  153.  242.  255.  230.  145.  129.   97.   52.  117.  226.\n",
      "  246.  210.  117.  145.  190.   85.   36.  145.  178.  117.   20.  170.\n",
      "  202.  153.   72.   32.   12.   52.   85.  194.  206.  190.  129.  117.\n",
      "   85.  174.  182.  218.]\n",
      "[6 4 9 6 5 7 8 6 6 7]\n",
      "\n"
     ]
    }
   ],
   "source": [
    "print img\n",
    "print ''\n",
    "print newimg\n",
    "print ''\n",
    "\n",
    "flatimg = img.reshape(-1)\n",
    "flattenedimg, bin_edges1 = np.histogram(flatimg)\n",
    "print flatimg\n",
    "print flattenedimg\n",
    "print ''\n",
    "\n",
    "flatnewimg = newimg.reshape(-1)\n",
    "flattenednewimg, bin_edges2 = np.histogram(flatnewimg)\n",
    "print flatnewimg\n",
    "print flattenednewimg\n",
    "print ''\n"
   ]
  },
  {
   "cell_type": "code",
   "execution_count": 46,
   "metadata": {
    "collapsed": false
   },
   "outputs": [
    {
     "data": {
      "text/plain": [
       "<function matplotlib.pyplot.show>"
      ]
     },
     "execution_count": 46,
     "metadata": {},
     "output_type": "execute_result"
    },
    {
     "data": {
      "image/png": "[encoded data removed]",
      "text/plain": [
       "<matplotlib.figure.Figure at 0x7f98ccd19b50>"
      ]
     },
     "metadata": {},
     "output_type": "display_data"
    }
   ],
   "source": [
    "fig = plt.hist(flattenedimg, bins = 255)\n",
    "plt.title('Original Histogram (Flat version)')\n",
    "plt.show"
   ]
  },
  {
   "cell_type": "code",
   "execution_count": 45,
   "metadata": {
    "collapsed": false
   },
   "outputs": [
    {
     "data": {
      "text/plain": [
       "<function matplotlib.pyplot.show>"
      ]
     },
     "execution_count": 45,
     "metadata": {},
     "output_type": "execute_result"
    },
    {
     "data": {
      "image/png": "[encoded data removed]",
      "text/plain": [
       "<matplotlib.figure.Figure at 0x7f98cccd3150>"
      ]
     },
     "metadata": {},
     "output_type": "display_data"
    }
   ],
   "source": [
    "fig = plt.hist(flattenednewimg, bins = 255)\n",
    "plt.title('Equalized Histogram (Flat version)')\n",
    "plt.show"
   ]
  }
 ],
 "metadata": {
  "kernelspec": {
   "display_name": "Python 2",
   "language": "python",
   "name": "python2"
  },
  "language_info": {
   "codemirror_mode": {
    "name": "ipython",
    "version": 2
   },
   "file_extension": ".py",
   "mimetype": "text/x-python",
   "name": "python",
   "nbconvert_exporter": "python",
   "pygments_lexer": "ipython2",
   "version": "2.7.11"
  }
 },
 "nbformat": 4,
 "nbformat_minor": 0
}
